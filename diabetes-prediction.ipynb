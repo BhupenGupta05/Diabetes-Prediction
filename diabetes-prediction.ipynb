{
 "cells": [
  {
   "cell_type": "code",
   "execution_count": 1,
   "metadata": {
    "_cell_guid": "b1076dfc-b9ad-4769-8c92-a6c4dae69d19",
    "_uuid": "8f2839f25d086af736a60e9eeb907d3b93b6e0e5",
    "execution": {
     "iopub.execute_input": "2020-09-07T15:39:41.253041Z",
     "iopub.status.busy": "2020-09-07T15:39:41.252102Z",
     "iopub.status.idle": "2020-09-07T15:39:41.261755Z",
     "shell.execute_reply": "2020-09-07T15:39:41.260794Z"
    },
    "papermill": {
     "duration": 0.049762,
     "end_time": "2020-09-07T15:39:41.261936",
     "exception": false,
     "start_time": "2020-09-07T15:39:41.212174",
     "status": "completed"
    },
    "tags": []
   },
   "outputs": [
    {
     "name": "stdout",
     "output_type": "stream",
     "text": [
      "/kaggle/input/pima-indians-diabetes-database/diabetes.csv\n"
     ]
    }
   ],
   "source": [
    "# This Python 3 environment comes with many helpful analytics libraries installed\n",
    "# It is defined by the kaggle/python Docker image: https://github.com/kaggle/docker-python\n",
    "# For example, here's several helpful packages to load\n",
    "\n",
    "import numpy as np # linear algebra\n",
    "import pandas as pd # data processing, CSV file I/O (e.g. pd.read_csv)\n",
    "\n",
    "# Input data files are available in the read-only \"../input/\" directory\n",
    "# For example, running this (by clicking run or pressing Shift+Enter) will list all files under the input directory\n",
    "\n",
    "import os\n",
    "for dirname, _, filenames in os.walk('/kaggle/input'):\n",
    "    for filename in filenames:\n",
    "        print(os.path.join(dirname, filename))\n",
    "\n",
    "# You can write up to 5GB to the current directory (/kaggle/working/) that gets preserved as output when you create a version using \"Save & Run All\" \n",
    "# You can also write temporary files to /kaggle/temp/, but they won't be saved outside of the current session"
   ]
  },
  {
   "cell_type": "markdown",
   "execution_count": null,
   "metadata": {
    "papermill": {
     "duration": 0.031824,
     "end_time": "2020-09-07T15:39:41.326593",
     "exception": false,
     "start_time": "2020-09-07T15:39:41.294769",
     "status": "completed"
    },
    "tags": []
   },
   "source": [
    "[1. Load libraries and read the data](http://)\n",
    "* > [1.1. Load libraries](http://)\n",
    "* > [1.2. Read the data](http://)\n",
    "\n",
    "[2. Overview](http://)\n",
    "* > [2.1. Head](http://)\n",
    "* > [2.2. Dependent variable](http://)\n",
    "* > [2.3. Missing Data](http://)\n",
    "\n",
    "[3. Replacing missing data, Outlier treatment and EDA](http://)\n",
    "* > [3.1. Insulin](http://)\n",
    "* > [3.2. SkinThickness ](http://)\n",
    "* > [3.3. BloodPressure ](http://)\n",
    "* > [3.4. BMI ](http://)\n",
    "* > [3.5. Glucose ](http://)\n",
    "* > [3.6. Age ](http://)\n",
    "* > [3.7. Pregnancies ](http://)\n",
    "* > [3.8. DPF ](http://)\n",
    "\n",
    "[4. Modelling](http://)\n",
    "* > [4.1. Splitting data into train and test set](http://)\n",
    "* > [4.2. Base models ](http://)\n",
    "> * > 4.2.1. Decision Tree Classifier\n",
    "> * > 4.2.2. AdaBoost Classifier\n",
    "> * > 4.2.3. XGBoost Classifier\n",
    "> * > 4.2.4. LightGBM Classifier\n",
    "> * > 4.2.5. Random Forest Classifier\n",
    "> * > 4.2.6. k-NN Classifier\n",
    "> * > 4.2.1. Logistic Regression\n",
    "* > [4.3. Evaluation Metrics ](http://)\n",
    "> * > 4.3.1. Confusion matrix\n",
    "> * > 4.3.2. ROC-AUC curve\n",
    "> * > 4.3.3. Accuracy\n",
    "* > [4.4. Hyperparamter tuning ](http://)\n",
    "> * > 4.4.1. XGBoost Classifier\n",
    "> * > 4.4.2. LightGBM Classifier\n",
    "> * > 4.4.3. Random Forest Classifer\n",
    "\n",
    "[5. Final Prediction](http://)"
   ]
  },
  {
   "cell_type": "markdown",
   "execution_count": null,
   "metadata": {
    "papermill": {
     "duration": 0.029732,
     "end_time": "2020-09-07T15:39:41.388636",
     "exception": false,
     "start_time": "2020-09-07T15:39:41.358904",
     "status": "completed"
    },
    "tags": []
   },
   "source": [
    "\n",
    "## Who are Pima Indians ?\n",
    "\n",
    "\"The Pima (or Akimel O'odham, also spelled Akimel O'otham, \"River People\", formerly known as Pima) are a group of Native Americans living in an area consisting of what is now central and southern Arizona. The majority population of the surviving two bands of the Akimel O'odham are based in two reservations: the Keli Akimel O'otham on the Gila River Indian Community (GRIC) and the On'k Akimel O'odham on the Salt River Pima-Maricopa Indian Community (SRPMIC).\" Wikipedia"
   ]
  },
  {
   "cell_type": "markdown",
   "execution_count": null,
   "metadata": {
    "papermill": {
     "duration": 0.030398,
     "end_time": "2020-09-07T15:39:41.451453",
     "exception": false,
     "start_time": "2020-09-07T15:39:41.421055",
     "status": "completed"
    },
    "tags": []
   },
   "source": [
    "# [1. Load libraries and read the data](http://)\n",
    "##  [1.1. Load libraries](http://)"
   ]
  },
  {
   "cell_type": "code",
   "execution_count": 2,
   "metadata": {
    "_cell_guid": "79c7e3d0-c299-4dcb-8224-4455121ee9b0",
    "_uuid": "d629ff2d2480ee46fbb7e2d37f6b5fab8052498a",
    "execution": {
     "iopub.execute_input": "2020-09-07T15:39:41.529566Z",
     "iopub.status.busy": "2020-09-07T15:39:41.528588Z",
     "iopub.status.idle": "2020-09-07T15:39:44.377155Z",
     "shell.execute_reply": "2020-09-07T15:39:44.376409Z"
    },
    "papermill": {
     "duration": 2.895392,
     "end_time": "2020-09-07T15:39:44.377294",
     "exception": false,
     "start_time": "2020-09-07T15:39:41.481902",
     "status": "completed"
    },
    "tags": []
   },
   "outputs": [],
   "source": [
    "# Visualization\n",
    "import matplotlib.pyplot as plt\n",
    "import seaborn as sns\n",
    "%matplotlib inline\n",
    "\n",
    "# Data processing, evaluation metrics and modelling\n",
    "from sklearn.preprocessing import MinMaxScaler\n",
    "from sklearn.model_selection import StratifiedKFold, cross_val_score, train_test_split, RandomizedSearchCV\n",
    "from sklearn.metrics import accuracy_score, precision_recall_fscore_support, confusion_matrix, roc_curve, auc\n",
    "import sklearn.metrics as sklm\n",
    "import lightgbm as lgbm\n",
    "import xgboost as xgb\n",
    "from sklearn.ensemble import RandomForestClassifier\n",
    "from sklearn.tree import DecisionTreeClassifier\n",
    "from sklearn.linear_model import LogisticRegression\n",
    "from sklearn.ensemble import AdaBoostClassifier\n",
    "from sklearn.neighbors import KNeighborsClassifier\n",
    "from sklearn.ensemble import VotingClassifier\n",
    "\n",
    "# Stats\n",
    "import numpy.random as nr\n",
    "import scipy.stats as ss\n",
    "from scipy.stats import randint \n",
    "\n",
    "# Ignore warning messages \n",
    "import warnings\n",
    "warnings.filterwarnings('ignore')"
   ]
  },
  {
   "cell_type": "markdown",
   "execution_count": null,
   "metadata": {
    "papermill": {
     "duration": 0.030285,
     "end_time": "2020-09-07T15:39:44.438621",
     "exception": false,
     "start_time": "2020-09-07T15:39:44.408336",
     "status": "completed"
    },
    "tags": []
   },
   "source": [
    "## [1.2. Read the data](http://)"
   ]
  },
  {
   "cell_type": "code",
   "execution_count": 3,
   "metadata": {
    "execution": {
     "iopub.execute_input": "2020-09-07T15:39:44.508244Z",
     "iopub.status.busy": "2020-09-07T15:39:44.507441Z",
     "iopub.status.idle": "2020-09-07T15:39:44.522959Z",
     "shell.execute_reply": "2020-09-07T15:39:44.523594Z"
    },
    "papermill": {
     "duration": 0.054371,
     "end_time": "2020-09-07T15:39:44.523769",
     "exception": false,
     "start_time": "2020-09-07T15:39:44.469398",
     "status": "completed"
    },
    "tags": []
   },
   "outputs": [],
   "source": [
    "path = \"../input/pima-indians-diabetes-database/diabetes.csv\"\n",
    "data = pd.read_csv(path)"
   ]
  },
  {
   "cell_type": "markdown",
   "execution_count": null,
   "metadata": {
    "papermill": {
     "duration": 0.030535,
     "end_time": "2020-09-07T15:39:44.584628",
     "exception": false,
     "start_time": "2020-09-07T15:39:44.554093",
     "status": "completed"
    },
    "tags": []
   },
   "source": [
    "# [2. Overview](http://)\n",
    "##  [2.1. Head](http://)"
   ]
  },
  {
   "cell_type": "code",
   "execution_count": 4,
   "metadata": {
    "execution": {
     "iopub.execute_input": "2020-09-07T15:39:44.666218Z",
     "iopub.status.busy": "2020-09-07T15:39:44.657936Z",
     "iopub.status.idle": "2020-09-07T15:39:44.682076Z",
     "shell.execute_reply": "2020-09-07T15:39:44.681385Z"
    },
    "papermill": {
     "duration": 0.066444,
     "end_time": "2020-09-07T15:39:44.682206",
     "exception": false,
     "start_time": "2020-09-07T15:39:44.615762",
     "status": "completed"
    },
    "tags": []
   },
   "outputs": [
    {
     "data": {
      "text/html": [
       "<div>\n",
       "<style scoped>\n",
       "    .dataframe tbody tr th:only-of-type {\n",
       "        vertical-align: middle;\n",
       "    }\n",
       "\n",
       "    .dataframe tbody tr th {\n",
       "        vertical-align: top;\n",
       "    }\n",
       "\n",
       "    .dataframe thead th {\n",
       "        text-align: right;\n",
       "    }\n",
       "</style>\n",
       "<table border=\"1\" class=\"dataframe\">\n",
       "  <thead>\n",
       "    <tr style=\"text-align: right;\">\n",
       "      <th></th>\n",
       "      <th>Pregnancies</th>\n",
       "      <th>Glucose</th>\n",
       "      <th>BloodPressure</th>\n",
       "      <th>SkinThickness</th>\n",
       "      <th>Insulin</th>\n",
       "      <th>BMI</th>\n",
       "      <th>DiabetesPedigreeFunction</th>\n",
       "      <th>Age</th>\n",
       "      <th>Outcome</th>\n",
       "    </tr>\n",
       "  </thead>\n",
       "  <tbody>\n",
       "    <tr>\n",
       "      <th>0</th>\n",
       "      <td>6</td>\n",
       "      <td>148</td>\n",
       "      <td>72</td>\n",
       "      <td>35</td>\n",
       "      <td>0</td>\n",
       "      <td>33.6</td>\n",
       "      <td>0.627</td>\n",
       "      <td>50</td>\n",
       "      <td>1</td>\n",
       "    </tr>\n",
       "    <tr>\n",
       "      <th>1</th>\n",
       "      <td>1</td>\n",
       "      <td>85</td>\n",
       "      <td>66</td>\n",
       "      <td>29</td>\n",
       "      <td>0</td>\n",
       "      <td>26.6</td>\n",
       "      <td>0.351</td>\n",
       "      <td>31</td>\n",
       "      <td>0</td>\n",
       "    </tr>\n",
       "    <tr>\n",
       "      <th>2</th>\n",
       "      <td>8</td>\n",
       "      <td>183</td>\n",
       "      <td>64</td>\n",
       "      <td>0</td>\n",
       "      <td>0</td>\n",
       "      <td>23.3</td>\n",
       "      <td>0.672</td>\n",
       "      <td>32</td>\n",
       "      <td>1</td>\n",
       "    </tr>\n",
       "    <tr>\n",
       "      <th>3</th>\n",
       "      <td>1</td>\n",
       "      <td>89</td>\n",
       "      <td>66</td>\n",
       "      <td>23</td>\n",
       "      <td>94</td>\n",
       "      <td>28.1</td>\n",
       "      <td>0.167</td>\n",
       "      <td>21</td>\n",
       "      <td>0</td>\n",
       "    </tr>\n",
       "    <tr>\n",
       "      <th>4</th>\n",
       "      <td>0</td>\n",
       "      <td>137</td>\n",
       "      <td>40</td>\n",
       "      <td>35</td>\n",
       "      <td>168</td>\n",
       "      <td>43.1</td>\n",
       "      <td>2.288</td>\n",
       "      <td>33</td>\n",
       "      <td>1</td>\n",
       "    </tr>\n",
       "  </tbody>\n",
       "</table>\n",
       "</div>"
      ],
      "text/plain": [
       "   Pregnancies  Glucose  BloodPressure  SkinThickness  Insulin   BMI  \\\n",
       "0            6      148             72             35        0  33.6   \n",
       "1            1       85             66             29        0  26.6   \n",
       "2            8      183             64              0        0  23.3   \n",
       "3            1       89             66             23       94  28.1   \n",
       "4            0      137             40             35      168  43.1   \n",
       "\n",
       "   DiabetesPedigreeFunction  Age  Outcome  \n",
       "0                     0.627   50        1  \n",
       "1                     0.351   31        0  \n",
       "2                     0.672   32        1  \n",
       "3                     0.167   21        0  \n",
       "4                     2.288   33        1  "
      ]
     },
     "execution_count": 4,
     "metadata": {},
     "output_type": "execute_result"
    }
   ],
   "source": [
    "data.head()"
   ]
  },
  {
   "cell_type": "code",
   "execution_count": 5,
   "metadata": {
    "execution": {
     "iopub.execute_input": "2020-09-07T15:39:44.753918Z",
     "iopub.status.busy": "2020-09-07T15:39:44.752785Z",
     "iopub.status.idle": "2020-09-07T15:39:44.756033Z",
     "shell.execute_reply": "2020-09-07T15:39:44.756592Z"
    },
    "papermill": {
     "duration": 0.0435,
     "end_time": "2020-09-07T15:39:44.756765",
     "exception": false,
     "start_time": "2020-09-07T15:39:44.713265",
     "status": "completed"
    },
    "tags": []
   },
   "outputs": [],
   "source": [
    "data.rename({'DiabetesPedigreeFunction':'DPF'},inplace = True,axis =1)"
   ]
  },
  {
   "cell_type": "markdown",
   "execution_count": null,
   "metadata": {
    "papermill": {
     "duration": 0.031611,
     "end_time": "2020-09-07T15:39:44.819063",
     "exception": false,
     "start_time": "2020-09-07T15:39:44.787452",
     "status": "completed"
    },
    "tags": []
   },
   "source": [
    "*For simplicity, I have renamed DiabetesPedigreeFunction as DPF.*"
   ]
  },
  {
   "cell_type": "code",
   "execution_count": 6,
   "metadata": {
    "execution": {
     "iopub.execute_input": "2020-09-07T15:39:44.902139Z",
     "iopub.status.busy": "2020-09-07T15:39:44.894572Z",
     "iopub.status.idle": "2020-09-07T15:39:44.908568Z",
     "shell.execute_reply": "2020-09-07T15:39:44.907511Z"
    },
    "papermill": {
     "duration": 0.058728,
     "end_time": "2020-09-07T15:39:44.908797",
     "exception": false,
     "start_time": "2020-09-07T15:39:44.850069",
     "status": "completed"
    },
    "tags": []
   },
   "outputs": [
    {
     "name": "stdout",
     "output_type": "stream",
     "text": [
      "<class 'pandas.core.frame.DataFrame'>\n",
      "RangeIndex: 768 entries, 0 to 767\n",
      "Data columns (total 9 columns):\n",
      " #   Column         Non-Null Count  Dtype  \n",
      "---  ------         --------------  -----  \n",
      " 0   Pregnancies    768 non-null    int64  \n",
      " 1   Glucose        768 non-null    int64  \n",
      " 2   BloodPressure  768 non-null    int64  \n",
      " 3   SkinThickness  768 non-null    int64  \n",
      " 4   Insulin        768 non-null    int64  \n",
      " 5   BMI            768 non-null    float64\n",
      " 6   DPF            768 non-null    float64\n",
      " 7   Age            768 non-null    int64  \n",
      " 8   Outcome        768 non-null    int64  \n",
      "dtypes: float64(2), int64(7)\n",
      "memory usage: 54.1 KB\n"
     ]
    }
   ],
   "source": [
    "data.info()"
   ]
  },
  {
   "cell_type": "code",
   "execution_count": 7,
   "metadata": {
    "execution": {
     "iopub.execute_input": "2020-09-07T15:39:44.984716Z",
     "iopub.status.busy": "2020-09-07T15:39:44.983616Z",
     "iopub.status.idle": "2020-09-07T15:39:45.025112Z",
     "shell.execute_reply": "2020-09-07T15:39:45.024433Z"
    },
    "papermill": {
     "duration": 0.083886,
     "end_time": "2020-09-07T15:39:45.025237",
     "exception": false,
     "start_time": "2020-09-07T15:39:44.941351",
     "status": "completed"
    },
    "tags": []
   },
   "outputs": [
    {
     "data": {
      "text/html": [
       "<div>\n",
       "<style scoped>\n",
       "    .dataframe tbody tr th:only-of-type {\n",
       "        vertical-align: middle;\n",
       "    }\n",
       "\n",
       "    .dataframe tbody tr th {\n",
       "        vertical-align: top;\n",
       "    }\n",
       "\n",
       "    .dataframe thead th {\n",
       "        text-align: right;\n",
       "    }\n",
       "</style>\n",
       "<table border=\"1\" class=\"dataframe\">\n",
       "  <thead>\n",
       "    <tr style=\"text-align: right;\">\n",
       "      <th></th>\n",
       "      <th>Pregnancies</th>\n",
       "      <th>Glucose</th>\n",
       "      <th>BloodPressure</th>\n",
       "      <th>SkinThickness</th>\n",
       "      <th>Insulin</th>\n",
       "      <th>BMI</th>\n",
       "      <th>DPF</th>\n",
       "      <th>Age</th>\n",
       "      <th>Outcome</th>\n",
       "    </tr>\n",
       "  </thead>\n",
       "  <tbody>\n",
       "    <tr>\n",
       "      <th>count</th>\n",
       "      <td>768.000000</td>\n",
       "      <td>768.000000</td>\n",
       "      <td>768.000000</td>\n",
       "      <td>768.000000</td>\n",
       "      <td>768.000000</td>\n",
       "      <td>768.000000</td>\n",
       "      <td>768.000000</td>\n",
       "      <td>768.000000</td>\n",
       "      <td>768.000000</td>\n",
       "    </tr>\n",
       "    <tr>\n",
       "      <th>mean</th>\n",
       "      <td>3.845052</td>\n",
       "      <td>120.894531</td>\n",
       "      <td>69.105469</td>\n",
       "      <td>20.536458</td>\n",
       "      <td>79.799479</td>\n",
       "      <td>31.992578</td>\n",
       "      <td>0.471876</td>\n",
       "      <td>33.240885</td>\n",
       "      <td>0.348958</td>\n",
       "    </tr>\n",
       "    <tr>\n",
       "      <th>std</th>\n",
       "      <td>3.369578</td>\n",
       "      <td>31.972618</td>\n",
       "      <td>19.355807</td>\n",
       "      <td>15.952218</td>\n",
       "      <td>115.244002</td>\n",
       "      <td>7.884160</td>\n",
       "      <td>0.331329</td>\n",
       "      <td>11.760232</td>\n",
       "      <td>0.476951</td>\n",
       "    </tr>\n",
       "    <tr>\n",
       "      <th>min</th>\n",
       "      <td>0.000000</td>\n",
       "      <td>0.000000</td>\n",
       "      <td>0.000000</td>\n",
       "      <td>0.000000</td>\n",
       "      <td>0.000000</td>\n",
       "      <td>0.000000</td>\n",
       "      <td>0.078000</td>\n",
       "      <td>21.000000</td>\n",
       "      <td>0.000000</td>\n",
       "    </tr>\n",
       "    <tr>\n",
       "      <th>25%</th>\n",
       "      <td>1.000000</td>\n",
       "      <td>99.000000</td>\n",
       "      <td>62.000000</td>\n",
       "      <td>0.000000</td>\n",
       "      <td>0.000000</td>\n",
       "      <td>27.300000</td>\n",
       "      <td>0.243750</td>\n",
       "      <td>24.000000</td>\n",
       "      <td>0.000000</td>\n",
       "    </tr>\n",
       "    <tr>\n",
       "      <th>50%</th>\n",
       "      <td>3.000000</td>\n",
       "      <td>117.000000</td>\n",
       "      <td>72.000000</td>\n",
       "      <td>23.000000</td>\n",
       "      <td>30.500000</td>\n",
       "      <td>32.000000</td>\n",
       "      <td>0.372500</td>\n",
       "      <td>29.000000</td>\n",
       "      <td>0.000000</td>\n",
       "    </tr>\n",
       "    <tr>\n",
       "      <th>75%</th>\n",
       "      <td>6.000000</td>\n",
       "      <td>140.250000</td>\n",
       "      <td>80.000000</td>\n",
       "      <td>32.000000</td>\n",
       "      <td>127.250000</td>\n",
       "      <td>36.600000</td>\n",
       "      <td>0.626250</td>\n",
       "      <td>41.000000</td>\n",
       "      <td>1.000000</td>\n",
       "    </tr>\n",
       "    <tr>\n",
       "      <th>max</th>\n",
       "      <td>17.000000</td>\n",
       "      <td>199.000000</td>\n",
       "      <td>122.000000</td>\n",
       "      <td>99.000000</td>\n",
       "      <td>846.000000</td>\n",
       "      <td>67.100000</td>\n",
       "      <td>2.420000</td>\n",
       "      <td>81.000000</td>\n",
       "      <td>1.000000</td>\n",
       "    </tr>\n",
       "  </tbody>\n",
       "</table>\n",
       "</div>"
      ],
      "text/plain": [
       "       Pregnancies     Glucose  BloodPressure  SkinThickness     Insulin  \\\n",
       "count   768.000000  768.000000     768.000000     768.000000  768.000000   \n",
       "mean      3.845052  120.894531      69.105469      20.536458   79.799479   \n",
       "std       3.369578   31.972618      19.355807      15.952218  115.244002   \n",
       "min       0.000000    0.000000       0.000000       0.000000    0.000000   \n",
       "25%       1.000000   99.000000      62.000000       0.000000    0.000000   \n",
       "50%       3.000000  117.000000      72.000000      23.000000   30.500000   \n",
       "75%       6.000000  140.250000      80.000000      32.000000  127.250000   \n",
       "max      17.000000  199.000000     122.000000      99.000000  846.000000   \n",
       "\n",
       "              BMI         DPF         Age     Outcome  \n",
       "count  768.000000  768.000000  768.000000  768.000000  \n",
       "mean    31.992578    0.471876   33.240885    0.348958  \n",
       "std      7.884160    0.331329   11.760232    0.476951  \n",
       "min      0.000000    0.078000   21.000000    0.000000  \n",
       "25%     27.300000    0.243750   24.000000    0.000000  \n",
       "50%     32.000000    0.372500   29.000000    0.000000  \n",
       "75%     36.600000    0.626250   41.000000    1.000000  \n",
       "max     67.100000    2.420000   81.000000    1.000000  "
      ]
     },
     "execution_count": 7,
     "metadata": {},
     "output_type": "execute_result"
    }
   ],
   "source": [
    "data.describe()"
   ]
  },
  {
   "cell_type": "markdown",
   "execution_count": null,
   "metadata": {
    "papermill": {
     "duration": 0.031813,
     "end_time": "2020-09-07T15:39:45.088177",
     "exception": false,
     "start_time": "2020-09-07T15:39:45.056364",
     "status": "completed"
    },
    "tags": []
   },
   "source": [
    "*The data looks fine, but there's a catch. Some of the features like Glucose and BMI contain 0's which makes no sense, so they might me missing values which have been imputed as zeros to make the data look more clean.*"
   ]
  },
  {
   "cell_type": "markdown",
   "execution_count": null,
   "metadata": {
    "papermill": {
     "duration": 0.030945,
     "end_time": "2020-09-07T15:39:45.151511",
     "exception": false,
     "start_time": "2020-09-07T15:39:45.120566",
     "status": "completed"
    },
    "tags": []
   },
   "source": [
    "\n",
    "## What is Diabetes ?\n",
    "\n",
    "Acccording to NIH, \"**Diabetes** \n",
    "is a disease that occurs when your blood glucose, also called blood sugar, is too high. Blood glucose is your main source of energy and comes from the food you eat. Insulin, a hormone made by the pancreas, helps glucose from the food get into your cells to be used for energy. Sometimes your body doesn’t make enough—or any—insulin or doesn’t use insulin well. Glucose then stays in your blood and doesn’t reach your cells.\n",
    "\n",
    "Over time, having too much glucose in your blood can cause health problems. Although diabetes has no cure, you can take steps to manage your diabetes and stay healthy.\n",
    "\n",
    "Sometimes people call diabetes “a touch of sugar” or “borderline diabetes.” These terms suggest that someone doesn’t really have diabetes or has a less serious case, but every case of diabetes is serious.\n",
    "\n",
    "**What are the different types of diabetes?**\n",
    "The most common types of diabetes are type 1, type 2, and gestational diabetes.\n",
    "\n",
    "**Type 1 diabetes**\n",
    "If you have type 1 diabetes, your body does not make insulin. Your immune system attacks and destroys the cells in your pancreas that make insulin. Type 1 diabetes is usually diagnosed in children and young adults, although it can appear at any age. People with type 1 diabetes need to take insulin every day to stay alive.\n",
    "\n",
    "**Type 2 diabetes**\n",
    "If you have type 2 diabetes, your body does not make or use insulin well. You can develop type 2 diabetes at any age, even during childhood. However, this type of diabetes occurs most often in middle-aged and older people. Type 2 is the most common type of diabetes.\n",
    "\n",
    "**Gestational diabetes**\n",
    "Gestational diabetes develops in some women when they are pregnant. Most of the time, this type of diabetes goes away after the baby is born. However, if you’ve had gestational diabetes, you have a greater chance of developing type 2 diabetes later in life. Sometimes diabetes diagnosed during pregnancy is actually type 2 diabetes.\n",
    "\n",
    "**Other types of diabetes** \n",
    "Less common types include monogenic diabetes, which is an inherited form of diabetes, and cystic fibrosis-related diabetes .\""
   ]
  },
  {
   "cell_type": "markdown",
   "execution_count": null,
   "metadata": {
    "papermill": {
     "duration": 0.031587,
     "end_time": "2020-09-07T15:39:45.214697",
     "exception": false,
     "start_time": "2020-09-07T15:39:45.183110",
     "status": "completed"
    },
    "tags": []
   },
   "source": [
    "##  [2.2. Dependent variable](http://)"
   ]
  },
  {
   "cell_type": "code",
   "execution_count": 8,
   "metadata": {
    "execution": {
     "iopub.execute_input": "2020-09-07T15:39:45.286600Z",
     "iopub.status.busy": "2020-09-07T15:39:45.285818Z",
     "iopub.status.idle": "2020-09-07T15:39:45.295570Z",
     "shell.execute_reply": "2020-09-07T15:39:45.294785Z"
    },
    "papermill": {
     "duration": 0.048346,
     "end_time": "2020-09-07T15:39:45.295697",
     "exception": false,
     "start_time": "2020-09-07T15:39:45.247351",
     "status": "completed"
    },
    "tags": []
   },
   "outputs": [
    {
     "data": {
      "text/plain": [
       "count    768.000000\n",
       "mean       0.348958\n",
       "std        0.476951\n",
       "min        0.000000\n",
       "25%        0.000000\n",
       "50%        0.000000\n",
       "75%        1.000000\n",
       "max        1.000000\n",
       "Name: Outcome, dtype: float64"
      ]
     },
     "execution_count": 8,
     "metadata": {},
     "output_type": "execute_result"
    }
   ],
   "source": [
    "data['Outcome'].describe()"
   ]
  },
  {
   "cell_type": "code",
   "execution_count": 9,
   "metadata": {
    "execution": {
     "iopub.execute_input": "2020-09-07T15:39:45.423236Z",
     "iopub.status.busy": "2020-09-07T15:39:45.421820Z",
     "iopub.status.idle": "2020-09-07T15:39:45.426606Z",
     "shell.execute_reply": "2020-09-07T15:39:45.427225Z"
    },
    "papermill": {
     "duration": 0.046188,
     "end_time": "2020-09-07T15:39:45.427394",
     "exception": false,
     "start_time": "2020-09-07T15:39:45.381206",
     "status": "completed"
    },
    "tags": []
   },
   "outputs": [
    {
     "data": {
      "text/plain": [
       "0    500\n",
       "1    268\n",
       "Name: Outcome, dtype: int64"
      ]
     },
     "execution_count": 9,
     "metadata": {},
     "output_type": "execute_result"
    }
   ],
   "source": [
    "data['Outcome'].value_counts()"
   ]
  },
  {
   "cell_type": "markdown",
   "execution_count": null,
   "metadata": {
    "papermill": {
     "duration": 0.031475,
     "end_time": "2020-09-07T15:39:45.490715",
     "exception": false,
     "start_time": "2020-09-07T15:39:45.459240",
     "status": "completed"
    },
    "tags": []
   },
   "source": [
    "*When looked upon the dependent variable, we found that this is a case of imbalanced class distribution as healthy cases are almost twice the diabetic ones and we will treat it later in the modelling section.*"
   ]
  },
  {
   "cell_type": "markdown",
   "execution_count": null,
   "metadata": {
    "papermill": {
     "duration": 0.031482,
     "end_time": "2020-09-07T15:39:45.554225",
     "exception": false,
     "start_time": "2020-09-07T15:39:45.522743",
     "status": "completed"
    },
    "tags": []
   },
   "source": [
    "##  [2.3. Missing Data](http://)"
   ]
  },
  {
   "cell_type": "markdown",
   "execution_count": null,
   "metadata": {
    "papermill": {
     "duration": 0.033342,
     "end_time": "2020-09-07T15:39:45.620154",
     "exception": false,
     "start_time": "2020-09-07T15:39:45.586812",
     "status": "completed"
    },
    "tags": []
   },
   "source": [
    "**In this section, I have made two datasets(Diabetic and Healthy) to visualize the target count and target percentage with the help of histogram and pie chart.**"
   ]
  },
  {
   "cell_type": "code",
   "execution_count": 10,
   "metadata": {
    "execution": {
     "iopub.execute_input": "2020-09-07T15:39:45.702359Z",
     "iopub.status.busy": "2020-09-07T15:39:45.701523Z",
     "iopub.status.idle": "2020-09-07T15:39:46.034494Z",
     "shell.execute_reply": "2020-09-07T15:39:46.033163Z"
    },
    "papermill": {
     "duration": 0.382735,
     "end_time": "2020-09-07T15:39:46.034665",
     "exception": false,
     "start_time": "2020-09-07T15:39:45.651930",
     "status": "completed"
    },
    "tags": []
   },
   "outputs": [
    {
     "data": {
      "image/png": "[encoded data removed]",
      "text/plain": [
       "<Figure size 504x360 with 1 Axes>"
      ]
     },
     "metadata": {
      "needs_background": "light"
     },
     "output_type": "display_data"
    },
    {
     "data": {
      "image/png": "[encoded data removed]",
      "text/plain": [
       "<Figure size 432x288 with 1 Axes>"
      ]
     },
     "metadata": {},
     "output_type": "display_data"
    }
   ],
   "source": [
    "# Creating two datasets\n",
    "Diabetic = data.loc[(data['Outcome'] != 0)]\n",
    "Healthy = data.loc[(data['Outcome'] == 0)]\n",
    "colors = ['#FFD700', '#7EC0EE']\n",
    "\n",
    "# Creating a dataframe having label_count\n",
    "label_count = pd.DataFrame({'Condition': ['Diabetic', 'Healthy'], 'Count': [len(Diabetic.index), len(Healthy.index)]})\n",
    "\n",
    "# Visualizing this dataframe\n",
    "plt.figure(figsize=(7,5))\n",
    "sns.barplot(x=label_count['Condition'], y=label_count['Count'], data=label_count, palette=colors)\n",
    "plt.title(\"Count of Outcome variable\")\n",
    "\n",
    "\n",
    "# Pie chart for label_count distribution as in percentage\n",
    "labels = ['Diabetic', 'Healthy']\n",
    "sizes = [len(Diabetic.index), len(Healthy.index)]\n",
    "explode = (0.1, 0.05)\n",
    "\n",
    "fig,ax = plt.subplots()\n",
    "plt.title('Distribution of Outcome variable')\n",
    "ax.pie(sizes,\n",
    "       explode = explode,\n",
    "       labels = labels,\n",
    "       autopct = '%1.1f%%',\n",
    "       shadow = True,\n",
    "       startangle = 100,\n",
    "       colors = colors)\n",
    "\n",
    "plt.show()"
   ]
  },
  {
   "cell_type": "code",
   "execution_count": 11,
   "metadata": {
    "execution": {
     "iopub.execute_input": "2020-09-07T15:39:46.119527Z",
     "iopub.status.busy": "2020-09-07T15:39:46.118316Z",
     "iopub.status.idle": "2020-09-07T15:39:46.125764Z",
     "shell.execute_reply": "2020-09-07T15:39:46.125074Z"
    },
    "papermill": {
     "duration": 0.051971,
     "end_time": "2020-09-07T15:39:46.125899",
     "exception": false,
     "start_time": "2020-09-07T15:39:46.073928",
     "status": "completed"
    },
    "tags": []
   },
   "outputs": [],
   "source": [
    "# Replacing all zeros in the following features with NaN(Not a Number), so that we can later replace with something more useful\n",
    "data[['Glucose', 'BloodPressure', 'SkinThickness', 'Insulin', 'BMI']] = data[['Glucose', 'BloodPressure', 'SkinThickness', 'Insulin', 'BMI']].replace(0, np.NaN)"
   ]
  },
  {
   "cell_type": "code",
   "execution_count": 12,
   "metadata": {
    "execution": {
     "iopub.execute_input": "2020-09-07T15:39:46.202619Z",
     "iopub.status.busy": "2020-09-07T15:39:46.201610Z",
     "iopub.status.idle": "2020-09-07T15:39:46.206673Z",
     "shell.execute_reply": "2020-09-07T15:39:46.205885Z"
    },
    "papermill": {
     "duration": 0.048242,
     "end_time": "2020-09-07T15:39:46.206799",
     "exception": false,
     "start_time": "2020-09-07T15:39:46.158557",
     "status": "completed"
    },
    "tags": []
   },
   "outputs": [
    {
     "data": {
      "text/plain": [
       "Pregnancies        0\n",
       "Glucose            5\n",
       "BloodPressure     35\n",
       "SkinThickness    227\n",
       "Insulin          374\n",
       "BMI               11\n",
       "DPF                0\n",
       "Age                0\n",
       "Outcome            0\n",
       "dtype: int64"
      ]
     },
     "execution_count": 12,
     "metadata": {},
     "output_type": "execute_result"
    }
   ],
   "source": [
    "# Checking the missing values in each feature\n",
    "data.isnull().sum()"
   ]
  },
  {
   "cell_type": "markdown",
   "execution_count": null,
   "metadata": {
    "papermill": {
     "duration": 0.032718,
     "end_time": "2020-09-07T15:39:46.272794",
     "exception": false,
     "start_time": "2020-09-07T15:39:46.240076",
     "status": "completed"
    },
    "tags": []
   },
   "source": [
    "**Making a seperate dataframe for features containing missing values and the percentage they account out of all observations.**"
   ]
  },
  {
   "cell_type": "code",
   "execution_count": 13,
   "metadata": {
    "execution": {
     "iopub.execute_input": "2020-09-07T15:39:46.368452Z",
     "iopub.status.busy": "2020-09-07T15:39:46.367494Z",
     "iopub.status.idle": "2020-09-07T15:39:46.372399Z",
     "shell.execute_reply": "2020-09-07T15:39:46.371619Z"
    },
    "papermill": {
     "duration": 0.064626,
     "end_time": "2020-09-07T15:39:46.372534",
     "exception": false,
     "start_time": "2020-09-07T15:39:46.307908",
     "status": "completed"
    },
    "tags": []
   },
   "outputs": [
    {
     "data": {
      "text/html": [
       "<div>\n",
       "<style scoped>\n",
       "    .dataframe tbody tr th:only-of-type {\n",
       "        vertical-align: middle;\n",
       "    }\n",
       "\n",
       "    .dataframe tbody tr th {\n",
       "        vertical-align: top;\n",
       "    }\n",
       "\n",
       "    .dataframe thead th {\n",
       "        text-align: right;\n",
       "    }\n",
       "</style>\n",
       "<table border=\"1\" class=\"dataframe\">\n",
       "  <thead>\n",
       "    <tr style=\"text-align: right;\">\n",
       "      <th></th>\n",
       "      <th>Columns</th>\n",
       "      <th>Missing_values</th>\n",
       "      <th>Percentage</th>\n",
       "    </tr>\n",
       "  </thead>\n",
       "  <tbody>\n",
       "    <tr>\n",
       "      <th>0</th>\n",
       "      <td>Glucose</td>\n",
       "      <td>5</td>\n",
       "      <td>0.651042</td>\n",
       "    </tr>\n",
       "    <tr>\n",
       "      <th>1</th>\n",
       "      <td>BloodPressure</td>\n",
       "      <td>35</td>\n",
       "      <td>4.557292</td>\n",
       "    </tr>\n",
       "    <tr>\n",
       "      <th>2</th>\n",
       "      <td>SkinThickness</td>\n",
       "      <td>227</td>\n",
       "      <td>29.557292</td>\n",
       "    </tr>\n",
       "    <tr>\n",
       "      <th>3</th>\n",
       "      <td>Insulin</td>\n",
       "      <td>374</td>\n",
       "      <td>48.697917</td>\n",
       "    </tr>\n",
       "    <tr>\n",
       "      <th>4</th>\n",
       "      <td>BMI</td>\n",
       "      <td>11</td>\n",
       "      <td>1.432292</td>\n",
       "    </tr>\n",
       "  </tbody>\n",
       "</table>\n",
       "</div>"
      ],
      "text/plain": [
       "         Columns  Missing_values  Percentage\n",
       "0        Glucose               5    0.651042\n",
       "1  BloodPressure              35    4.557292\n",
       "2  SkinThickness             227   29.557292\n",
       "3        Insulin             374   48.697917\n",
       "4            BMI              11    1.432292"
      ]
     },
     "execution_count": 13,
     "metadata": {},
     "output_type": "execute_result"
    }
   ],
   "source": [
    "missing_data = pd.DataFrame({'Columns': ['Glucose', 'BloodPressure', 'SkinThickness', 'Insulin', 'BMI'],\n",
    "                             'Missing_values': [data['Glucose'].isnull().sum(), data['BloodPressure'].isnull().sum(),\n",
    "                                                data['SkinThickness'].isnull().sum(), data['Insulin'].isnull().sum(),\n",
    "                                                data['BMI'].isnull().sum()],\n",
    "                             'Percentage': [data['Glucose'].isnull().sum()/len(data['Glucose'])*100,\n",
    "                                            data['BloodPressure'].isnull().sum()/len(data['BloodPressure'])*100,\n",
    "                                            data['SkinThickness'].isnull().sum()/len(data['SkinThickness'])*100,\n",
    "                                            data['Insulin'].isnull().sum()/len(data['Insulin'])*100,\n",
    "                                            data['BMI'].isnull().sum()/len(data['BMI'])*100]})\n",
    "missing_data.head()"
   ]
  },
  {
   "cell_type": "markdown",
   "execution_count": null,
   "metadata": {
    "papermill": {
     "duration": 0.032966,
     "end_time": "2020-09-07T15:39:46.438955",
     "exception": false,
     "start_time": "2020-09-07T15:39:46.405989",
     "status": "completed"
    },
    "tags": []
   },
   "source": [
    "**Visualizing Outliers and quartiles.**"
   ]
  },
  {
   "cell_type": "code",
   "execution_count": 14,
   "metadata": {
    "execution": {
     "iopub.execute_input": "2020-09-07T15:39:46.521598Z",
     "iopub.status.busy": "2020-09-07T15:39:46.520395Z",
     "iopub.status.idle": "2020-09-07T15:39:46.884035Z",
     "shell.execute_reply": "2020-09-07T15:39:46.883241Z"
    },
    "papermill": {
     "duration": 0.41204,
     "end_time": "2020-09-07T15:39:46.884163",
     "exception": false,
     "start_time": "2020-09-07T15:39:46.472123",
     "status": "completed"
    },
    "tags": []
   },
   "outputs": [
    {
     "data": {
      "image/png": "[encoded data removed]",
      "text/plain": [
       "<Figure size 792x1080 with 1 Axes>"
      ]
     },
     "metadata": {},
     "output_type": "display_data"
    }
   ],
   "source": [
    "plt.style.use('ggplot')\n",
    "fig, ax = plt.subplots(figsize=(11, 15))\n",
    "\n",
    "ax.set_facecolor('#fafafa')\n",
    "ax.set(xlim=(-.05, 200))\n",
    "plt.ylabel('Variables')\n",
    "plt.title(\"Overview Data Set\")\n",
    "ax = sns.boxplot(data = data, \n",
    "  orient = 'h', \n",
    "  palette = 'Set2')"
   ]
  },
  {
   "cell_type": "markdown",
   "execution_count": null,
   "metadata": {
    "papermill": {
     "duration": 0.032978,
     "end_time": "2020-09-07T15:39:46.950608",
     "exception": false,
     "start_time": "2020-09-07T15:39:46.917630",
     "status": "completed"
    },
    "tags": []
   },
   "source": [
    "*Now, you must be wondering what outliers and quartiles are?*\n",
    "\n",
    "*Outliers are those predictions which shows extreme behaviour e.g. they either lie below the min value, above the max value or both, a particular feature possess. It is very important to treat these outliers as these can lead to overfitting the model(or learning too much on training set and not generalising well on test set).*\n",
    "\n",
    "*A feature is divided into 4 parts or quartiles. In the above box plot, there are some cutoffs. These cut points are lower quartile (or first quartile), median (or second quartile) and upper quartile (or third quartile). Second quartile is the median of the feature. First quartile is the median of the data lower than second quartile. Third quartile is the median of the data grater than the second quartile. Interquartile range (IQR) is calculated by subtracting lower quartile from upper quartile. Outliers can be determined using IQR and lower and upper quartiles.*"
   ]
  },
  {
   "cell_type": "markdown",
   "execution_count": null,
   "metadata": {
    "papermill": {
     "duration": 0.033317,
     "end_time": "2020-09-07T15:39:47.018116",
     "exception": false,
     "start_time": "2020-09-07T15:39:46.984799",
     "status": "completed"
    },
    "tags": []
   },
   "source": [
    "**Correlation matrix or Heatmap.**"
   ]
  },
  {
   "cell_type": "code",
   "execution_count": 15,
   "metadata": {
    "execution": {
     "iopub.execute_input": "2020-09-07T15:39:47.096669Z",
     "iopub.status.busy": "2020-09-07T15:39:47.095870Z",
     "iopub.status.idle": "2020-09-07T15:39:47.685221Z",
     "shell.execute_reply": "2020-09-07T15:39:47.684550Z"
    },
    "papermill": {
     "duration": 0.633835,
     "end_time": "2020-09-07T15:39:47.685347",
     "exception": false,
     "start_time": "2020-09-07T15:39:47.051512",
     "status": "completed"
    },
    "tags": []
   },
   "outputs": [
    {
     "data": {
      "image/png": "[encoded data removed]",
      "text/plain": [
       "<Figure size 1080x864 with 2 Axes>"
      ]
     },
     "metadata": {},
     "output_type": "display_data"
    }
   ],
   "source": [
    "plt.figure(figsize=(15,12))\n",
    "sns.heatmap(data.corr(), cmap = 'Blues', annot = True)\n",
    "plt.show()"
   ]
  },
  {
   "cell_type": "markdown",
   "execution_count": null,
   "metadata": {
    "papermill": {
     "duration": 0.033854,
     "end_time": "2020-09-07T15:39:47.753766",
     "exception": false,
     "start_time": "2020-09-07T15:39:47.719912",
     "status": "completed"
    },
    "tags": []
   },
   "source": [
    "*This plot tells us about how much a specific feature is correlated with another feature. This can be useful in Feature Selection of most important features while wotking with thousands of features.*"
   ]
  },
  {
   "cell_type": "markdown",
   "execution_count": null,
   "metadata": {
    "papermill": {
     "duration": 0.033959,
     "end_time": "2020-09-07T15:39:47.822156",
     "exception": false,
     "start_time": "2020-09-07T15:39:47.788197",
     "status": "completed"
    },
    "tags": []
   },
   "source": [
    "# [3. Replace missing data, Outlier treatment and EDA](http://)"
   ]
  },
  {
   "cell_type": "code",
   "execution_count": 16,
   "metadata": {
    "execution": {
     "iopub.execute_input": "2020-09-07T15:39:47.897743Z",
     "iopub.status.busy": "2020-09-07T15:39:47.896735Z",
     "iopub.status.idle": "2020-09-07T15:39:47.900087Z",
     "shell.execute_reply": "2020-09-07T15:39:47.899427Z"
    },
    "papermill": {
     "duration": 0.043851,
     "end_time": "2020-09-07T15:39:47.900235",
     "exception": false,
     "start_time": "2020-09-07T15:39:47.856384",
     "status": "completed"
    },
    "tags": []
   },
   "outputs": [],
   "source": [
    "# Function to replace nan values with the median of observations in those features\n",
    "def fill_with_median(x):\n",
    "    data[x].fillna(data[x].astype('float').median(axis=0))"
   ]
  },
  {
   "cell_type": "code",
   "execution_count": 17,
   "metadata": {
    "execution": {
     "iopub.execute_input": "2020-09-07T15:39:47.977537Z",
     "iopub.status.busy": "2020-09-07T15:39:47.976602Z",
     "iopub.status.idle": "2020-09-07T15:39:47.979851Z",
     "shell.execute_reply": "2020-09-07T15:39:47.979215Z"
    },
    "papermill": {
     "duration": 0.045413,
     "end_time": "2020-09-07T15:39:47.979976",
     "exception": false,
     "start_time": "2020-09-07T15:39:47.934563",
     "status": "completed"
    },
    "tags": []
   },
   "outputs": [],
   "source": [
    "# Function to treat outliers\n",
    "def z_score(col, data):\n",
    "    median = data[col].median()\n",
    "    std = data[col].std()\n",
    "    threshold = std * 3\n",
    "    lower, upper = median - threshold, median + threshold\n",
    "    new_df = data[(data[col] < upper) & (data[col] > lower)]\n",
    "    return new_df"
   ]
  },
  {
   "cell_type": "markdown",
   "execution_count": null,
   "metadata": {
    "papermill": {
     "duration": 0.033958,
     "end_time": "2020-09-07T15:39:48.050385",
     "exception": false,
     "start_time": "2020-09-07T15:39:48.016427",
     "status": "completed"
    },
    "tags": []
   },
   "source": [
    "*Z_score is a popular method for treating outliers where we discard observations having a z_score > 3.*\n",
    "\n",
    "*For a normal distribution, it is estimated that*\n",
    "* 68% of the data points lie between +/- 1 standard deviation.\n",
    "* 95% of the data points lie between +/- 2 standard deviation\n",
    "* 99.7% of the data points lie between +/- 3 standard deviation\n",
    "\n",
    "*z_score = (x - median)/std. deviation.*\n",
    "\n",
    "*Here, I have taken median instead of mean, because the mean has one main disadvantage: it is particularly susceptible to the influence of outliers, which is why it is wise to use median when you have features which are slightly skewed(or not normally distributed).*"
   ]
  },
  {
   "cell_type": "markdown",
   "execution_count": null,
   "metadata": {
    "papermill": {
     "duration": 0.033759,
     "end_time": "2020-09-07T15:39:48.118413",
     "exception": false,
     "start_time": "2020-09-07T15:39:48.084654",
     "status": "completed"
    },
    "tags": []
   },
   "source": [
    "## [3.1. Insulin](http://)"
   ]
  },
  {
   "cell_type": "markdown",
   "execution_count": null,
   "metadata": {
    "papermill": {
     "duration": 0.035325,
     "end_time": "2020-09-07T15:39:48.188530",
     "exception": false,
     "start_time": "2020-09-07T15:39:48.153205",
     "status": "completed"
    },
    "tags": []
   },
   "source": [
    "* Insulin : 2-Hour serum insulin (mu U/ml)"
   ]
  },
  {
   "cell_type": "code",
   "execution_count": 18,
   "metadata": {
    "execution": {
     "iopub.execute_input": "2020-09-07T15:39:48.279140Z",
     "iopub.status.busy": "2020-09-07T15:39:48.273115Z",
     "iopub.status.idle": "2020-09-07T15:39:48.616311Z",
     "shell.execute_reply": "2020-09-07T15:39:48.615633Z"
    },
    "papermill": {
     "duration": 0.391758,
     "end_time": "2020-09-07T15:39:48.616440",
     "exception": false,
     "start_time": "2020-09-07T15:39:48.224682",
     "status": "completed"
    },
    "tags": []
   },
   "outputs": [
    {
     "data": {
      "text/plain": [
       "<matplotlib.legend.Legend at 0x7f11d6b394d0>"
      ]
     },
     "execution_count": 18,
     "metadata": {},
     "output_type": "execute_result"
    },
    {
     "data": {
      "image/png": "[encoded data removed]",
      "text/plain": [
       "<Figure size 864x432 with 1 Axes>"
      ]
     },
     "metadata": {},
     "output_type": "display_data"
    }
   ],
   "source": [
    "plt.figure(figsize=(12,6))\n",
    "sns.distplot(Diabetic['Insulin'], hist=True, label='Diabetic')\n",
    "sns.distplot(Healthy['Insulin'], hist=True, label='Healthy')\n",
    "plt.legend()"
   ]
  },
  {
   "cell_type": "code",
   "execution_count": 19,
   "metadata": {
    "execution": {
     "iopub.execute_input": "2020-09-07T15:39:48.704930Z",
     "iopub.status.busy": "2020-09-07T15:39:48.698637Z",
     "iopub.status.idle": "2020-09-07T15:39:49.021669Z",
     "shell.execute_reply": "2020-09-07T15:39:49.020887Z"
    },
    "papermill": {
     "duration": 0.370236,
     "end_time": "2020-09-07T15:39:49.021799",
     "exception": false,
     "start_time": "2020-09-07T15:39:48.651563",
     "status": "completed"
    },
    "tags": []
   },
   "outputs": [
    {
     "data": {
      "text/plain": [
       "<matplotlib.legend.Legend at 0x7f11d6b4cc50>"
      ]
     },
     "execution_count": 19,
     "metadata": {},
     "output_type": "execute_result"
    },
    {
     "data": {
      "image/png": "[encoded data removed]",
      "text/plain": [
       "<Figure size 864x432 with 1 Axes>"
      ]
     },
     "metadata": {},
     "output_type": "display_data"
    }
   ],
   "source": [
    "Insulin = z_score('Insulin', data)\n",
    "\n",
    "Diabetic_ins = Insulin.loc[(Insulin['Outcome'] != 0)]\n",
    "Healthy_ins = Insulin.loc[(Insulin['Outcome'] == 0)]\n",
    "\n",
    "plt.figure(figsize=(12,6))\n",
    "sns.distplot(Diabetic_ins['Insulin'], hist=True, label='Diabetic')\n",
    "sns.distplot(Healthy_ins['Insulin'], hist=True, label='Healthy')\n",
    "plt.legend()"
   ]
  },
  {
   "cell_type": "markdown",
   "execution_count": null,
   "metadata": {
    "papermill": {
     "duration": 0.035531,
     "end_time": "2020-09-07T15:39:49.093613",
     "exception": false,
     "start_time": "2020-09-07T15:39:49.058082",
     "status": "completed"
    },
    "tags": []
   },
   "source": [
    "*Here, I have made another dataset: Insulin which contains outlier-free observations in order to compare both the plots.*"
   ]
  },
  {
   "cell_type": "code",
   "execution_count": 20,
   "metadata": {
    "execution": {
     "iopub.execute_input": "2020-09-07T15:39:49.172432Z",
     "iopub.status.busy": "2020-09-07T15:39:49.171336Z",
     "iopub.status.idle": "2020-09-07T15:39:49.174598Z",
     "shell.execute_reply": "2020-09-07T15:39:49.173849Z"
    },
    "papermill": {
     "duration": 0.045229,
     "end_time": "2020-09-07T15:39:49.174726",
     "exception": false,
     "start_time": "2020-09-07T15:39:49.129497",
     "status": "completed"
    },
    "tags": []
   },
   "outputs": [],
   "source": [
    "fill_with_median('Insulin')"
   ]
  },
  {
   "cell_type": "code",
   "execution_count": 21,
   "metadata": {
    "execution": {
     "iopub.execute_input": "2020-09-07T15:39:49.259187Z",
     "iopub.status.busy": "2020-09-07T15:39:49.258239Z",
     "iopub.status.idle": "2020-09-07T15:39:49.261493Z",
     "shell.execute_reply": "2020-09-07T15:39:49.260670Z"
    },
    "papermill": {
     "duration": 0.050911,
     "end_time": "2020-09-07T15:39:49.261662",
     "exception": false,
     "start_time": "2020-09-07T15:39:49.210751",
     "status": "completed"
    },
    "tags": []
   },
   "outputs": [],
   "source": [
    "data.loc[(data['Outcome'] != 0) & (data['Insulin'].isnull()), 'Insulin'] = 166.0 # Median(Diabetic)\n",
    "data.loc[(data['Outcome'] == 0) & (data['Insulin'].isnull()), 'Insulin'] = 100.0 # Median(Healthy)"
   ]
  },
  {
   "cell_type": "markdown",
   "execution_count": null,
   "metadata": {
    "papermill": {
     "duration": 0.041405,
     "end_time": "2020-09-07T15:39:49.345077",
     "exception": false,
     "start_time": "2020-09-07T15:39:49.303672",
     "status": "completed"
    },
    "tags": []
   },
   "source": [
    "## [3.2. SkinThickness](http://)"
   ]
  },
  {
   "cell_type": "markdown",
   "execution_count": null,
   "metadata": {
    "papermill": {
     "duration": 0.037777,
     "end_time": "2020-09-07T15:39:49.423811",
     "exception": false,
     "start_time": "2020-09-07T15:39:49.386034",
     "status": "completed"
    },
    "tags": []
   },
   "source": [
    "* SkinThickness : Triceps skin fold thickness (mm)"
   ]
  },
  {
   "cell_type": "code",
   "execution_count": 22,
   "metadata": {
    "execution": {
     "iopub.execute_input": "2020-09-07T15:39:49.620900Z",
     "iopub.status.busy": "2020-09-07T15:39:49.509392Z",
     "iopub.status.idle": "2020-09-07T15:39:49.900398Z",
     "shell.execute_reply": "2020-09-07T15:39:49.899715Z"
    },
    "papermill": {
     "duration": 0.44098,
     "end_time": "2020-09-07T15:39:49.900529",
     "exception": false,
     "start_time": "2020-09-07T15:39:49.459549",
     "status": "completed"
    },
    "tags": []
   },
   "outputs": [
    {
     "data": {
      "text/plain": [
       "<matplotlib.legend.Legend at 0x7f11d6cfe6d0>"
      ]
     },
     "execution_count": 22,
     "metadata": {},
     "output_type": "execute_result"
    },
    {
     "data": {
      "image/png": "[encoded data removed]",
      "text/plain": [
       "<Figure size 864x432 with 1 Axes>"
      ]
     },
     "metadata": {},
     "output_type": "display_data"
    }
   ],
   "source": [
    "plt.figure(figsize=(12,6))\n",
    "sns.distplot(Diabetic['SkinThickness'], hist=True, label='Diabetic')\n",
    "sns.distplot(Healthy['SkinThickness'], hist=True, label='Healthy')\n",
    "plt.legend()"
   ]
  },
  {
   "cell_type": "code",
   "execution_count": 23,
   "metadata": {
    "execution": {
     "iopub.execute_input": "2020-09-07T15:39:50.000128Z",
     "iopub.status.busy": "2020-09-07T15:39:49.999237Z",
     "iopub.status.idle": "2020-09-07T15:39:50.287100Z",
     "shell.execute_reply": "2020-09-07T15:39:50.286343Z"
    },
    "papermill": {
     "duration": 0.350159,
     "end_time": "2020-09-07T15:39:50.287228",
     "exception": false,
     "start_time": "2020-09-07T15:39:49.937069",
     "status": "completed"
    },
    "tags": []
   },
   "outputs": [
    {
     "data": {
      "text/plain": [
       "<matplotlib.legend.Legend at 0x7f11d514e750>"
      ]
     },
     "execution_count": 23,
     "metadata": {},
     "output_type": "execute_result"
    },
    {
     "data": {
      "image/png": "[encoded data removed]",
      "text/plain": [
       "<Figure size 864x432 with 1 Axes>"
      ]
     },
     "metadata": {},
     "output_type": "display_data"
    }
   ],
   "source": [
    "SkinThickness = z_score('SkinThickness', data)\n",
    "\n",
    "Diabetic_skin = SkinThickness.loc[(SkinThickness['Outcome'] != 0)]\n",
    "Healthy_skin = SkinThickness.loc[(SkinThickness['Outcome'] == 0)]\n",
    "\n",
    "plt.figure(figsize=(12,6))\n",
    "sns.distplot(Diabetic_skin['SkinThickness'], hist=True, label='Diabetic')\n",
    "sns.distplot(Healthy_skin['SkinThickness'], hist=True, label='Healthy')\n",
    "plt.legend()"
   ]
  },
  {
   "cell_type": "code",
   "execution_count": 24,
   "metadata": {
    "execution": {
     "iopub.execute_input": "2020-09-07T15:39:50.369322Z",
     "iopub.status.busy": "2020-09-07T15:39:50.368384Z",
     "iopub.status.idle": "2020-09-07T15:39:50.372372Z",
     "shell.execute_reply": "2020-09-07T15:39:50.371566Z"
    },
    "papermill": {
     "duration": 0.047559,
     "end_time": "2020-09-07T15:39:50.372510",
     "exception": false,
     "start_time": "2020-09-07T15:39:50.324951",
     "status": "completed"
    },
    "tags": []
   },
   "outputs": [],
   "source": [
    "fill_with_median('SkinThickness')"
   ]
  },
  {
   "cell_type": "code",
   "execution_count": 25,
   "metadata": {
    "execution": {
     "iopub.execute_input": "2020-09-07T15:39:50.460794Z",
     "iopub.status.busy": "2020-09-07T15:39:50.459728Z",
     "iopub.status.idle": "2020-09-07T15:39:50.463541Z",
     "shell.execute_reply": "2020-09-07T15:39:50.462828Z"
    },
    "papermill": {
     "duration": 0.053018,
     "end_time": "2020-09-07T15:39:50.463675",
     "exception": false,
     "start_time": "2020-09-07T15:39:50.410657",
     "status": "completed"
    },
    "tags": []
   },
   "outputs": [],
   "source": [
    "data.loc[(data['Outcome'] != 0) & (data['SkinThickness'].isnull()), 'SkinThickness'] = 32.0 \n",
    "data.loc[(data['Outcome'] == 0) & (data['SkinThickness'].isnull()), 'SkinThickness'] = 27.0"
   ]
  },
  {
   "cell_type": "markdown",
   "execution_count": null,
   "metadata": {
    "papermill": {
     "duration": 0.036807,
     "end_time": "2020-09-07T15:39:50.537895",
     "exception": false,
     "start_time": "2020-09-07T15:39:50.501088",
     "status": "completed"
    },
    "tags": []
   },
   "source": [
    "## [3.3. BloodPressure](http://)"
   ]
  },
  {
   "cell_type": "markdown",
   "execution_count": null,
   "metadata": {
    "papermill": {
     "duration": 0.037077,
     "end_time": "2020-09-07T15:39:50.612989",
     "exception": false,
     "start_time": "2020-09-07T15:39:50.575912",
     "status": "completed"
    },
    "tags": []
   },
   "source": [
    "* BloodPressure : Diastolic blood pressure (mm Hg)"
   ]
  },
  {
   "cell_type": "code",
   "execution_count": 26,
   "metadata": {
    "execution": {
     "iopub.execute_input": "2020-09-07T15:39:50.704701Z",
     "iopub.status.busy": "2020-09-07T15:39:50.701461Z",
     "iopub.status.idle": "2020-09-07T15:39:51.076611Z",
     "shell.execute_reply": "2020-09-07T15:39:51.077248Z"
    },
    "papermill": {
     "duration": 0.427187,
     "end_time": "2020-09-07T15:39:51.077412",
     "exception": false,
     "start_time": "2020-09-07T15:39:50.650225",
     "status": "completed"
    },
    "tags": []
   },
   "outputs": [
    {
     "data": {
      "text/plain": [
       "<matplotlib.legend.Legend at 0x7f11f403aa90>"
      ]
     },
     "execution_count": 26,
     "metadata": {},
     "output_type": "execute_result"
    },
    {
     "data": {
      "image/png": "[encoded data removed]",
      "text/plain": [
       "<Figure size 864x432 with 1 Axes>"
      ]
     },
     "metadata": {},
     "output_type": "display_data"
    }
   ],
   "source": [
    "plt.figure(figsize=(12,6))\n",
    "sns.distplot(Diabetic['BloodPressure'], hist=True, label='Diabetic')\n",
    "sns.distplot(Healthy['BloodPressure'], hist=True, label='Healthy')\n",
    "plt.legend()"
   ]
  },
  {
   "cell_type": "code",
   "execution_count": 27,
   "metadata": {
    "execution": {
     "iopub.execute_input": "2020-09-07T15:39:51.175157Z",
     "iopub.status.busy": "2020-09-07T15:39:51.166176Z",
     "iopub.status.idle": "2020-09-07T15:39:51.476772Z",
     "shell.execute_reply": "2020-09-07T15:39:51.475821Z"
    },
    "papermill": {
     "duration": 0.360973,
     "end_time": "2020-09-07T15:39:51.476937",
     "exception": false,
     "start_time": "2020-09-07T15:39:51.115964",
     "status": "completed"
    },
    "tags": []
   },
   "outputs": [
    {
     "data": {
      "text/plain": [
       "<matplotlib.legend.Legend at 0x7f11d50c59d0>"
      ]
     },
     "execution_count": 27,
     "metadata": {},
     "output_type": "execute_result"
    },
    {
     "data": {
      "image/png": "[encoded data removed]",
      "text/plain": [
       "<Figure size 864x432 with 1 Axes>"
      ]
     },
     "metadata": {},
     "output_type": "display_data"
    }
   ],
   "source": [
    "BP = z_score('BloodPressure', data)\n",
    "\n",
    "Diabetic_BP = BP.loc[(BP['Outcome'] != 0)]\n",
    "Healthy_BP = BP.loc[(BP['Outcome'] == 0)]\n",
    "\n",
    "plt.figure(figsize=(12,6))\n",
    "sns.distplot(Diabetic_BP['BloodPressure'], hist=True, label='Diabetic')\n",
    "sns.distplot(Healthy_BP ['BloodPressure'], hist=True, label='Healthy')\n",
    "plt.legend()"
   ]
  },
  {
   "cell_type": "code",
   "execution_count": 28,
   "metadata": {
    "execution": {
     "iopub.execute_input": "2020-09-07T15:39:51.575068Z",
     "iopub.status.busy": "2020-09-07T15:39:51.573965Z",
     "iopub.status.idle": "2020-09-07T15:39:51.577713Z",
     "shell.execute_reply": "2020-09-07T15:39:51.576941Z"
    },
    "papermill": {
     "duration": 0.059586,
     "end_time": "2020-09-07T15:39:51.577840",
     "exception": false,
     "start_time": "2020-09-07T15:39:51.518254",
     "status": "completed"
    },
    "tags": []
   },
   "outputs": [],
   "source": [
    "fill_with_median('BloodPressure')"
   ]
  },
  {
   "cell_type": "code",
   "execution_count": 29,
   "metadata": {
    "execution": {
     "iopub.execute_input": "2020-09-07T15:39:51.667460Z",
     "iopub.status.busy": "2020-09-07T15:39:51.666557Z",
     "iopub.status.idle": "2020-09-07T15:39:51.670125Z",
     "shell.execute_reply": "2020-09-07T15:39:51.669324Z"
    },
    "papermill": {
     "duration": 0.052957,
     "end_time": "2020-09-07T15:39:51.670259",
     "exception": false,
     "start_time": "2020-09-07T15:39:51.617302",
     "status": "completed"
    },
    "tags": []
   },
   "outputs": [],
   "source": [
    "data.loc[(data['Outcome'] != 0) & (data['BloodPressure'].isnull()), 'BloodPressure'] = 74.0\n",
    "data.loc[(data['Outcome'] == 0) & (data['BloodPressure'].isnull()), 'BloodPressure'] = 70.0"
   ]
  },
  {
   "cell_type": "markdown",
   "execution_count": null,
   "metadata": {
    "papermill": {
     "duration": 0.039702,
     "end_time": "2020-09-07T15:39:51.749083",
     "exception": false,
     "start_time": "2020-09-07T15:39:51.709381",
     "status": "completed"
    },
    "tags": []
   },
   "source": [
    "## [3.4. BMI](http://)"
   ]
  },
  {
   "cell_type": "markdown",
   "execution_count": null,
   "metadata": {
    "papermill": {
     "duration": 0.040906,
     "end_time": "2020-09-07T15:39:51.832458",
     "exception": false,
     "start_time": "2020-09-07T15:39:51.791552",
     "status": "completed"
    },
    "tags": []
   },
   "source": [
    "* BMI : Body mass index (weight in kg/(height in m)^2)"
   ]
  },
  {
   "cell_type": "code",
   "execution_count": 30,
   "metadata": {
    "execution": {
     "iopub.execute_input": "2020-09-07T15:39:51.921370Z",
     "iopub.status.busy": "2020-09-07T15:39:51.920063Z",
     "iopub.status.idle": "2020-09-07T15:39:52.302082Z",
     "shell.execute_reply": "2020-09-07T15:39:52.302789Z"
    },
    "papermill": {
     "duration": 0.429319,
     "end_time": "2020-09-07T15:39:52.302961",
     "exception": false,
     "start_time": "2020-09-07T15:39:51.873642",
     "status": "completed"
    },
    "tags": []
   },
   "outputs": [
    {
     "data": {
      "text/plain": [
       "<matplotlib.legend.Legend at 0x7f11d4fb9210>"
      ]
     },
     "execution_count": 30,
     "metadata": {},
     "output_type": "execute_result"
    },
    {
     "data": {
      "image/png": "[encoded data removed]",
      "text/plain": [
       "<Figure size 864x432 with 1 Axes>"
      ]
     },
     "metadata": {},
     "output_type": "display_data"
    }
   ],
   "source": [
    "plt.figure(figsize=(12,6))\n",
    "sns.distplot(Diabetic['BMI'], hist=True, label='Diabetic')\n",
    "sns.distplot(Healthy['BMI'], hist=True, label='Healthy')\n",
    "plt.legend()"
   ]
  },
  {
   "cell_type": "code",
   "execution_count": 31,
   "metadata": {
    "execution": {
     "iopub.execute_input": "2020-09-07T15:39:52.401922Z",
     "iopub.status.busy": "2020-09-07T15:39:52.400409Z",
     "iopub.status.idle": "2020-09-07T15:39:52.702691Z",
     "shell.execute_reply": "2020-09-07T15:39:52.701879Z"
    },
    "papermill": {
     "duration": 0.360302,
     "end_time": "2020-09-07T15:39:52.702824",
     "exception": false,
     "start_time": "2020-09-07T15:39:52.342522",
     "status": "completed"
    },
    "tags": []
   },
   "outputs": [
    {
     "data": {
      "text/plain": [
       "<matplotlib.legend.Legend at 0x7f11d4ed9d50>"
      ]
     },
     "execution_count": 31,
     "metadata": {},
     "output_type": "execute_result"
    },
    {
     "data": {
      "image/png": "[encoded data removed]",
      "text/plain": [
       "<Figure size 864x432 with 1 Axes>"
      ]
     },
     "metadata": {},
     "output_type": "display_data"
    }
   ],
   "source": [
    "BMI = z_score('BMI', data)\n",
    "\n",
    "Diabetic_BMI = BMI.loc[(BMI['Outcome'] != 0)]\n",
    "Healthy_BMI = BMI.loc[(BMI['Outcome'] == 0)]\n",
    "\n",
    "plt.figure(figsize=(12,6))\n",
    "sns.distplot(Diabetic_BMI['BMI'], hist=True, label='Diabetic')\n",
    "sns.distplot(Healthy_BMI['BMI'], hist=True, label='Healthy')\n",
    "plt.legend()"
   ]
  },
  {
   "cell_type": "code",
   "execution_count": 32,
   "metadata": {
    "execution": {
     "iopub.execute_input": "2020-09-07T15:39:52.790758Z",
     "iopub.status.busy": "2020-09-07T15:39:52.789889Z",
     "iopub.status.idle": "2020-09-07T15:39:52.793791Z",
     "shell.execute_reply": "2020-09-07T15:39:52.793182Z"
    },
    "papermill": {
     "duration": 0.050564,
     "end_time": "2020-09-07T15:39:52.793931",
     "exception": false,
     "start_time": "2020-09-07T15:39:52.743367",
     "status": "completed"
    },
    "tags": []
   },
   "outputs": [],
   "source": [
    "fill_with_median('BMI')"
   ]
  },
  {
   "cell_type": "code",
   "execution_count": 33,
   "metadata": {
    "execution": {
     "iopub.execute_input": "2020-09-07T15:39:52.890367Z",
     "iopub.status.busy": "2020-09-07T15:39:52.889080Z",
     "iopub.status.idle": "2020-09-07T15:39:52.892821Z",
     "shell.execute_reply": "2020-09-07T15:39:52.892205Z"
    },
    "papermill": {
     "duration": 0.058537,
     "end_time": "2020-09-07T15:39:52.892954",
     "exception": false,
     "start_time": "2020-09-07T15:39:52.834417",
     "status": "completed"
    },
    "tags": []
   },
   "outputs": [],
   "source": [
    "data.loc[(data['Outcome'] != 0) & (data['BMI'].isnull()), 'BMI'] = 34.2\n",
    "data.loc[(data['Outcome'] == 0) & (data['BMI'].isnull()), 'BMI'] = 30.1"
   ]
  },
  {
   "cell_type": "markdown",
   "execution_count": null,
   "metadata": {
    "papermill": {
     "duration": 0.040172,
     "end_time": "2020-09-07T15:39:52.973703",
     "exception": false,
     "start_time": "2020-09-07T15:39:52.933531",
     "status": "completed"
    },
    "tags": []
   },
   "source": [
    "## [3.5. Glucose](http://)"
   ]
  },
  {
   "cell_type": "markdown",
   "execution_count": null,
   "metadata": {
    "papermill": {
     "duration": 0.040192,
     "end_time": "2020-09-07T15:39:53.056019",
     "exception": false,
     "start_time": "2020-09-07T15:39:53.015827",
     "status": "completed"
    },
    "tags": []
   },
   "source": [
    "* Glucose : Plasma glucose concentration a 2 hours in an oral glucose tolerance test"
   ]
  },
  {
   "cell_type": "code",
   "execution_count": 34,
   "metadata": {
    "execution": {
     "iopub.execute_input": "2020-09-07T15:39:53.152738Z",
     "iopub.status.busy": "2020-09-07T15:39:53.150775Z",
     "iopub.status.idle": "2020-09-07T15:39:53.481672Z",
     "shell.execute_reply": "2020-09-07T15:39:53.480984Z"
    },
    "papermill": {
     "duration": 0.385509,
     "end_time": "2020-09-07T15:39:53.481791",
     "exception": false,
     "start_time": "2020-09-07T15:39:53.096282",
     "status": "completed"
    },
    "tags": []
   },
   "outputs": [
    {
     "data": {
      "text/plain": [
       "<matplotlib.legend.Legend at 0x7f11d4dc4a50>"
      ]
     },
     "execution_count": 34,
     "metadata": {},
     "output_type": "execute_result"
    },
    {
     "data": {
      "image/png": "[encoded data removed]",
      "text/plain": [
       "<Figure size 864x432 with 1 Axes>"
      ]
     },
     "metadata": {},
     "output_type": "display_data"
    }
   ],
   "source": [
    "plt.figure(figsize=(12,6))\n",
    "sns.distplot(Diabetic['Glucose'], hist=True, label='Diabetic')\n",
    "sns.distplot(Healthy['Glucose'], hist=True, label='Healthy')\n",
    "plt.legend()"
   ]
  },
  {
   "cell_type": "code",
   "execution_count": 35,
   "metadata": {
    "execution": {
     "iopub.execute_input": "2020-09-07T15:39:53.574537Z",
     "iopub.status.busy": "2020-09-07T15:39:53.573716Z",
     "iopub.status.idle": "2020-09-07T15:39:53.865380Z",
     "shell.execute_reply": "2020-09-07T15:39:53.865943Z"
    },
    "papermill": {
     "duration": 0.343285,
     "end_time": "2020-09-07T15:39:53.866137",
     "exception": false,
     "start_time": "2020-09-07T15:39:53.522852",
     "status": "completed"
    },
    "tags": []
   },
   "outputs": [
    {
     "data": {
      "text/plain": [
       "<matplotlib.legend.Legend at 0x7f11d4d20790>"
      ]
     },
     "execution_count": 35,
     "metadata": {},
     "output_type": "execute_result"
    },
    {
     "data": {
      "image/png": "[encoded data removed]",
      "text/plain": [
       "<Figure size 864x432 with 1 Axes>"
      ]
     },
     "metadata": {},
     "output_type": "display_data"
    }
   ],
   "source": [
    "Glucose = z_score('Glucose', data)\n",
    "\n",
    "Diabetic_glu = Glucose.loc[(Glucose['Outcome'] != 0)]\n",
    "Healthy_glu = Glucose.loc[(Glucose['Outcome'] == 0)]\n",
    "\n",
    "plt.figure(figsize=(12,6))\n",
    "sns.distplot(Diabetic_glu['Glucose'], hist=True, label='Diabetic')\n",
    "sns.distplot(Healthy_glu['Glucose'], hist=True, label='Healthy')\n",
    "plt.legend()"
   ]
  },
  {
   "cell_type": "code",
   "execution_count": 36,
   "metadata": {
    "execution": {
     "iopub.execute_input": "2020-09-07T15:39:53.957265Z",
     "iopub.status.busy": "2020-09-07T15:39:53.956123Z",
     "iopub.status.idle": "2020-09-07T15:39:53.960062Z",
     "shell.execute_reply": "2020-09-07T15:39:53.959271Z"
    },
    "papermill": {
     "duration": 0.051912,
     "end_time": "2020-09-07T15:39:53.960213",
     "exception": false,
     "start_time": "2020-09-07T15:39:53.908301",
     "status": "completed"
    },
    "tags": []
   },
   "outputs": [],
   "source": [
    "fill_with_median('Glucose')"
   ]
  },
  {
   "cell_type": "code",
   "execution_count": 37,
   "metadata": {
    "execution": {
     "iopub.execute_input": "2020-09-07T15:39:54.055153Z",
     "iopub.status.busy": "2020-09-07T15:39:54.053968Z",
     "iopub.status.idle": "2020-09-07T15:39:54.057357Z",
     "shell.execute_reply": "2020-09-07T15:39:54.057908Z"
    },
    "papermill": {
     "duration": 0.055783,
     "end_time": "2020-09-07T15:39:54.058108",
     "exception": false,
     "start_time": "2020-09-07T15:39:54.002325",
     "status": "completed"
    },
    "tags": []
   },
   "outputs": [],
   "source": [
    "data.loc[(data['Outcome'] != 0) & (data['Glucose'].isnull()), 'Glucose'] = 140.0\n",
    "data.loc[(data['Outcome'] == 0) & (data['Glucose'].isnull()), 'Glucose'] = 107.0"
   ]
  },
  {
   "cell_type": "markdown",
   "execution_count": null,
   "metadata": {
    "papermill": {
     "duration": 0.041915,
     "end_time": "2020-09-07T15:39:54.142741",
     "exception": false,
     "start_time": "2020-09-07T15:39:54.100826",
     "status": "completed"
    },
    "tags": []
   },
   "source": [
    "## [3.6. Age](http://)"
   ]
  },
  {
   "cell_type": "markdown",
   "execution_count": null,
   "metadata": {
    "papermill": {
     "duration": 0.047855,
     "end_time": "2020-09-07T15:39:54.234798",
     "exception": false,
     "start_time": "2020-09-07T15:39:54.186943",
     "status": "completed"
    },
    "tags": []
   },
   "source": [
    "* Age : Age (years)"
   ]
  },
  {
   "cell_type": "code",
   "execution_count": 38,
   "metadata": {
    "execution": {
     "iopub.execute_input": "2020-09-07T15:39:54.335728Z",
     "iopub.status.busy": "2020-09-07T15:39:54.334830Z",
     "iopub.status.idle": "2020-09-07T15:39:54.631028Z",
     "shell.execute_reply": "2020-09-07T15:39:54.630398Z"
    },
    "papermill": {
     "duration": 0.353813,
     "end_time": "2020-09-07T15:39:54.631161",
     "exception": false,
     "start_time": "2020-09-07T15:39:54.277348",
     "status": "completed"
    },
    "tags": []
   },
   "outputs": [
    {
     "data": {
      "text/plain": [
       "<matplotlib.legend.Legend at 0x7f11d4ca2910>"
      ]
     },
     "execution_count": 38,
     "metadata": {},
     "output_type": "execute_result"
    },
    {
     "data": {
      "image/png": "[encoded data removed]",
      "text/plain": [
       "<Figure size 864x432 with 1 Axes>"
      ]
     },
     "metadata": {},
     "output_type": "display_data"
    }
   ],
   "source": [
    "plt.figure(figsize=(12,6))\n",
    "sns.distplot(Diabetic['Age'], hist=True, label='Diabetic')\n",
    "sns.distplot(Healthy['Age'], hist=True, label='Healthy')\n",
    "plt.legend()"
   ]
  },
  {
   "cell_type": "code",
   "execution_count": 39,
   "metadata": {
    "execution": {
     "iopub.execute_input": "2020-09-07T15:39:54.742444Z",
     "iopub.status.busy": "2020-09-07T15:39:54.729558Z",
     "iopub.status.idle": "2020-09-07T15:39:55.016435Z",
     "shell.execute_reply": "2020-09-07T15:39:55.015629Z"
    },
    "papermill": {
     "duration": 0.342888,
     "end_time": "2020-09-07T15:39:55.016564",
     "exception": false,
     "start_time": "2020-09-07T15:39:54.673676",
     "status": "completed"
    },
    "tags": []
   },
   "outputs": [
    {
     "data": {
      "text/plain": [
       "<matplotlib.legend.Legend at 0x7f11d4b78c90>"
      ]
     },
     "execution_count": 39,
     "metadata": {},
     "output_type": "execute_result"
    },
    {
     "data": {
      "image/png": "[encoded data removed]",
      "text/plain": [
       "<Figure size 864x432 with 1 Axes>"
      ]
     },
     "metadata": {},
     "output_type": "display_data"
    }
   ],
   "source": [
    "Age = z_score('Age', data)\n",
    "\n",
    "Diabetic_age = Age.loc[(Age['Outcome'] != 0)]\n",
    "Healthy_age = Age.loc[(Age['Outcome'] == 0)]\n",
    "\n",
    "plt.figure(figsize=(12,6))\n",
    "sns.distplot(Diabetic_age['Age'], hist=True, label='Diabetic')\n",
    "sns.distplot(Healthy_age['Age'], hist=True, label='Healthy')\n",
    "plt.legend()"
   ]
  },
  {
   "cell_type": "markdown",
   "execution_count": null,
   "metadata": {
    "papermill": {
     "duration": 0.042719,
     "end_time": "2020-09-07T15:39:55.102358",
     "exception": false,
     "start_time": "2020-09-07T15:39:55.059639",
     "status": "completed"
    },
    "tags": []
   },
   "source": [
    "## [3.7. Pregnancies](http://)"
   ]
  },
  {
   "cell_type": "markdown",
   "execution_count": null,
   "metadata": {
    "papermill": {
     "duration": 0.043302,
     "end_time": "2020-09-07T15:39:55.188610",
     "exception": false,
     "start_time": "2020-09-07T15:39:55.145308",
     "status": "completed"
    },
    "tags": []
   },
   "source": [
    "* Pregnancies : Number of times pregnant"
   ]
  },
  {
   "cell_type": "code",
   "execution_count": 40,
   "metadata": {
    "execution": {
     "iopub.execute_input": "2020-09-07T15:39:55.292939Z",
     "iopub.status.busy": "2020-09-07T15:39:55.290187Z",
     "iopub.status.idle": "2020-09-07T15:39:55.701149Z",
     "shell.execute_reply": "2020-09-07T15:39:55.700377Z"
    },
    "papermill": {
     "duration": 0.46849,
     "end_time": "2020-09-07T15:39:55.701285",
     "exception": false,
     "start_time": "2020-09-07T15:39:55.232795",
     "status": "completed"
    },
    "tags": []
   },
   "outputs": [
    {
     "data": {
      "text/plain": [
       "<matplotlib.legend.Legend at 0x7f11d4aa4950>"
      ]
     },
     "execution_count": 40,
     "metadata": {},
     "output_type": "execute_result"
    },
    {
     "data": {
      "image/png": "[encoded data removed]",
      "text/plain": [
       "<Figure size 864x432 with 1 Axes>"
      ]
     },
     "metadata": {},
     "output_type": "display_data"
    }
   ],
   "source": [
    "plt.figure(figsize=(12,6))\n",
    "sns.distplot(Diabetic['Pregnancies'], hist=True, label='Diabetic')\n",
    "sns.distplot(Healthy['Pregnancies'], hist=True, label='Healthy')\n",
    "plt.legend()"
   ]
  },
  {
   "cell_type": "code",
   "execution_count": 41,
   "metadata": {
    "execution": {
     "iopub.execute_input": "2020-09-07T15:39:55.808720Z",
     "iopub.status.busy": "2020-09-07T15:39:55.802164Z",
     "iopub.status.idle": "2020-09-07T15:39:56.105503Z",
     "shell.execute_reply": "2020-09-07T15:39:56.104697Z"
    },
    "papermill": {
     "duration": 0.360128,
     "end_time": "2020-09-07T15:39:56.105632",
     "exception": false,
     "start_time": "2020-09-07T15:39:55.745504",
     "status": "completed"
    },
    "tags": []
   },
   "outputs": [
    {
     "data": {
      "text/plain": [
       "<matplotlib.legend.Legend at 0x7f11d4f86890>"
      ]
     },
     "execution_count": 41,
     "metadata": {},
     "output_type": "execute_result"
    },
    {
     "data": {
      "image/png": "[encoded data removed]",
      "text/plain": [
       "<Figure size 864x432 with 1 Axes>"
      ]
     },
     "metadata": {},
     "output_type": "display_data"
    }
   ],
   "source": [
    "Preg = z_score('Pregnancies', data)\n",
    "\n",
    "Diabetic_preg = Preg.loc[(Preg['Outcome'] != 0)]\n",
    "Healthy_preg = Preg.loc[(Preg['Outcome'] == 0)]\n",
    "\n",
    "plt.figure(figsize=(12,6))\n",
    "sns.distplot(Diabetic_preg['Pregnancies'], hist=True, label='Diabetic')\n",
    "sns.distplot(Healthy_preg['Pregnancies'], hist=True, label='Healthy')\n",
    "plt.legend()"
   ]
  },
  {
   "cell_type": "markdown",
   "execution_count": null,
   "metadata": {
    "papermill": {
     "duration": 0.04461,
     "end_time": "2020-09-07T15:39:56.195861",
     "exception": false,
     "start_time": "2020-09-07T15:39:56.151251",
     "status": "completed"
    },
    "tags": []
   },
   "source": [
    "## [3.8. DPF](http://)"
   ]
  },
  {
   "cell_type": "markdown",
   "execution_count": null,
   "metadata": {
    "papermill": {
     "duration": 0.046824,
     "end_time": "2020-09-07T15:39:56.288446",
     "exception": false,
     "start_time": "2020-09-07T15:39:56.241622",
     "status": "completed"
    },
    "tags": []
   },
   "source": [
    "* DiabetesPedigreeFunction : Diabetes pedigree function"
   ]
  },
  {
   "cell_type": "code",
   "execution_count": 42,
   "metadata": {
    "execution": {
     "iopub.execute_input": "2020-09-07T15:39:56.395409Z",
     "iopub.status.busy": "2020-09-07T15:39:56.389917Z",
     "iopub.status.idle": "2020-09-07T15:39:56.721219Z",
     "shell.execute_reply": "2020-09-07T15:39:56.721813Z"
    },
    "papermill": {
     "duration": 0.386378,
     "end_time": "2020-09-07T15:39:56.722016",
     "exception": false,
     "start_time": "2020-09-07T15:39:56.335638",
     "status": "completed"
    },
    "tags": []
   },
   "outputs": [
    {
     "data": {
      "text/plain": [
       "<matplotlib.legend.Legend at 0x7f11d4fac950>"
      ]
     },
     "execution_count": 42,
     "metadata": {},
     "output_type": "execute_result"
    },
    {
     "data": {
      "image/png": "[encoded data removed]",
      "text/plain": [
       "<Figure size 864x432 with 1 Axes>"
      ]
     },
     "metadata": {},
     "output_type": "display_data"
    }
   ],
   "source": [
    "plt.figure(figsize=(12,6))\n",
    "sns.distplot(Diabetic['DPF'], hist=True, label='Diabetic')\n",
    "sns.distplot(Healthy['DPF'], hist=True, label='Healthy')\n",
    "plt.legend()"
   ]
  },
  {
   "cell_type": "code",
   "execution_count": 43,
   "metadata": {
    "execution": {
     "iopub.execute_input": "2020-09-07T15:39:56.894414Z",
     "iopub.status.busy": "2020-09-07T15:39:56.892192Z",
     "iopub.status.idle": "2020-09-07T15:39:57.229860Z",
     "shell.execute_reply": "2020-09-07T15:39:57.229233Z"
    },
    "papermill": {
     "duration": 0.461796,
     "end_time": "2020-09-07T15:39:57.230013",
     "exception": false,
     "start_time": "2020-09-07T15:39:56.768217",
     "status": "completed"
    },
    "tags": []
   },
   "outputs": [
    {
     "data": {
      "text/plain": [
       "<matplotlib.legend.Legend at 0x7f11d492f5d0>"
      ]
     },
     "execution_count": 43,
     "metadata": {},
     "output_type": "execute_result"
    },
    {
     "data": {
      "image/png": "[encoded data removed]",
      "text/plain": [
       "<Figure size 864x432 with 1 Axes>"
      ]
     },
     "metadata": {},
     "output_type": "display_data"
    }
   ],
   "source": [
    "DPF = z_score('DPF', data)\n",
    "\n",
    "Diabetic_DPF = DPF.loc[(DPF['Outcome'] != 0)]\n",
    "Healthy_DPF = DPF.loc[(DPF['Outcome'] == 0)]\n",
    "\n",
    "plt.figure(figsize=(12,6))\n",
    "sns.distplot(Diabetic_DPF['DPF'], hist=True, label='Diabetic')\n",
    "sns.distplot(Healthy_DPF['DPF'], hist=True, label='Healthy')\n",
    "plt.legend()"
   ]
  },
  {
   "cell_type": "markdown",
   "execution_count": null,
   "metadata": {
    "papermill": {
     "duration": 0.047657,
     "end_time": "2020-09-07T15:39:57.324228",
     "exception": false,
     "start_time": "2020-09-07T15:39:57.276571",
     "status": "completed"
    },
    "tags": []
   },
   "source": [
    "**Preparing final outlier-free dataset.**"
   ]
  },
  {
   "cell_type": "code",
   "execution_count": 44,
   "metadata": {
    "execution": {
     "iopub.execute_input": "2020-09-07T15:39:57.427318Z",
     "iopub.status.busy": "2020-09-07T15:39:57.425079Z",
     "iopub.status.idle": "2020-09-07T15:39:57.439842Z",
     "shell.execute_reply": "2020-09-07T15:39:57.439063Z"
    },
    "papermill": {
     "duration": 0.068379,
     "end_time": "2020-09-07T15:39:57.439970",
     "exception": false,
     "start_time": "2020-09-07T15:39:57.371591",
     "status": "completed"
    },
    "tags": []
   },
   "outputs": [],
   "source": [
    "cols = ['Pregnancies', 'Glucose', 'BloodPressure', 'SkinThickness', 'Insulin', 'BMI', 'DPF', 'Age']\n",
    "for col in cols:\n",
    "    data = z_score(col, data)"
   ]
  },
  {
   "cell_type": "code",
   "execution_count": 45,
   "metadata": {
    "execution": {
     "iopub.execute_input": "2020-09-07T15:39:57.538186Z",
     "iopub.status.busy": "2020-09-07T15:39:57.536984Z",
     "iopub.status.idle": "2020-09-07T15:39:57.541970Z",
     "shell.execute_reply": "2020-09-07T15:39:57.541362Z"
    },
    "papermill": {
     "duration": 0.056296,
     "end_time": "2020-09-07T15:39:57.542118",
     "exception": false,
     "start_time": "2020-09-07T15:39:57.485822",
     "status": "completed"
    },
    "tags": []
   },
   "outputs": [
    {
     "data": {
      "text/plain": [
       "(692, 9)"
      ]
     },
     "execution_count": 45,
     "metadata": {},
     "output_type": "execute_result"
    }
   ],
   "source": [
    "data.shape"
   ]
  },
  {
   "cell_type": "markdown",
   "execution_count": null,
   "metadata": {
    "papermill": {
     "duration": 0.045919,
     "end_time": "2020-09-07T15:39:57.634467",
     "exception": false,
     "start_time": "2020-09-07T15:39:57.588548",
     "status": "completed"
    },
    "tags": []
   },
   "source": [
    "*The reduced dataset shape tells us that some observations(Outliers) have been removed.*"
   ]
  },
  {
   "cell_type": "markdown",
   "execution_count": null,
   "metadata": {
    "papermill": {
     "duration": 0.045843,
     "end_time": "2020-09-07T15:39:57.726821",
     "exception": false,
     "start_time": "2020-09-07T15:39:57.680978",
     "status": "completed"
    },
    "tags": []
   },
   "source": [
    "# [4. Modelling](http://)"
   ]
  },
  {
   "cell_type": "code",
   "execution_count": 46,
   "metadata": {
    "execution": {
     "iopub.execute_input": "2020-09-07T15:39:57.828831Z",
     "iopub.status.busy": "2020-09-07T15:39:57.827629Z",
     "iopub.status.idle": "2020-09-07T15:39:57.832601Z",
     "shell.execute_reply": "2020-09-07T15:39:57.831945Z"
    },
    "papermill": {
     "duration": 0.059504,
     "end_time": "2020-09-07T15:39:57.832725",
     "exception": false,
     "start_time": "2020-09-07T15:39:57.773221",
     "status": "completed"
    },
    "tags": []
   },
   "outputs": [
    {
     "data": {
      "text/plain": [
       "0    463\n",
       "1    229\n",
       "Name: Outcome, dtype: int64"
      ]
     },
     "execution_count": 46,
     "metadata": {},
     "output_type": "execute_result"
    }
   ],
   "source": [
    "data['Outcome'].value_counts()"
   ]
  },
  {
   "cell_type": "markdown",
   "execution_count": null,
   "metadata": {
    "papermill": {
     "duration": 0.045731,
     "end_time": "2020-09-07T15:39:57.925100",
     "exception": false,
     "start_time": "2020-09-07T15:39:57.879369",
     "status": "completed"
    },
    "tags": []
   },
   "source": [
    "*Before we dive into this section, we have to set a baseline accuracy, so that we can check whether our model is upto the mark or not. Now, we have two scenarios; either we set the accuracy according to Random-guessing or according to the Zero Classifier rule.*\n",
    "\n",
    "1. Random guessing \n",
    ">In our case, the target split is 67% - 33% for class 0 and 1 respectively. Let's assume that I will guess randomly using this ratio. The theoritical accuracy of random guessing on a binary-classification problem is:\n",
    "\n",
    "= P(class is 0)* P(guess is 0) + P(class is 1)* P(guess is 1)\n",
    "\n",
    "=> 0.67* 0.67 + 0.33* 0.33 = 0.5578 or 56%\n",
    "\n",
    "2. Zero Classifier rule\n",
    ">This rule simply predicts majority class in your dataset. In the example above with a 67% - 33% for class 0 and 1, it would predict class 0 for every prediction and achieve an accuracy of 67%. This is 11% better than the theoritical maximum using random guessing.\n",
    "\n",
    "This concludes two thhings:\n",
    "* Never use random guessing as your baseline accuracy.\n",
    "* In imbalanced classification problems, we should use metrics other than accuracy such as confusion matrix or ROC curve."
   ]
  },
  {
   "cell_type": "code",
   "execution_count": 47,
   "metadata": {
    "execution": {
     "iopub.execute_input": "2020-09-07T15:39:58.026779Z",
     "iopub.status.busy": "2020-09-07T15:39:58.025684Z",
     "iopub.status.idle": "2020-09-07T15:39:58.029491Z",
     "shell.execute_reply": "2020-09-07T15:39:58.028718Z"
    },
    "papermill": {
     "duration": 0.057937,
     "end_time": "2020-09-07T15:39:58.029619",
     "exception": false,
     "start_time": "2020-09-07T15:39:57.971682",
     "status": "completed"
    },
    "tags": []
   },
   "outputs": [],
   "source": [
    "# Seperating data into features and label\n",
    "X = data.drop(['Outcome'], axis=1)\n",
    "y = data['Outcome']"
   ]
  },
  {
   "cell_type": "code",
   "execution_count": 48,
   "metadata": {
    "execution": {
     "iopub.execute_input": "2020-09-07T15:39:58.145215Z",
     "iopub.status.busy": "2020-09-07T15:39:58.130583Z",
     "iopub.status.idle": "2020-09-07T15:39:58.150034Z",
     "shell.execute_reply": "2020-09-07T15:39:58.150678Z"
    },
    "papermill": {
     "duration": 0.075047,
     "end_time": "2020-09-07T15:39:58.150847",
     "exception": false,
     "start_time": "2020-09-07T15:39:58.075800",
     "status": "completed"
    },
    "tags": []
   },
   "outputs": [
    {
     "data": {
      "text/html": [
       "<div>\n",
       "<style scoped>\n",
       "    .dataframe tbody tr th:only-of-type {\n",
       "        vertical-align: middle;\n",
       "    }\n",
       "\n",
       "    .dataframe tbody tr th {\n",
       "        vertical-align: top;\n",
       "    }\n",
       "\n",
       "    .dataframe thead th {\n",
       "        text-align: right;\n",
       "    }\n",
       "</style>\n",
       "<table border=\"1\" class=\"dataframe\">\n",
       "  <thead>\n",
       "    <tr style=\"text-align: right;\">\n",
       "      <th></th>\n",
       "      <th>Pregnancies</th>\n",
       "      <th>Glucose</th>\n",
       "      <th>BloodPressure</th>\n",
       "      <th>SkinThickness</th>\n",
       "      <th>Insulin</th>\n",
       "      <th>BMI</th>\n",
       "      <th>DPF</th>\n",
       "      <th>Age</th>\n",
       "    </tr>\n",
       "  </thead>\n",
       "  <tbody>\n",
       "    <tr>\n",
       "      <th>0</th>\n",
       "      <td>0.461538</td>\n",
       "      <td>0.675325</td>\n",
       "      <td>0.485714</td>\n",
       "      <td>0.595745</td>\n",
       "      <td>0.437681</td>\n",
       "      <td>0.484277</td>\n",
       "      <td>0.452224</td>\n",
       "      <td>0.674419</td>\n",
       "    </tr>\n",
       "    <tr>\n",
       "      <th>1</th>\n",
       "      <td>0.076923</td>\n",
       "      <td>0.266234</td>\n",
       "      <td>0.400000</td>\n",
       "      <td>0.468085</td>\n",
       "      <td>0.246377</td>\n",
       "      <td>0.264151</td>\n",
       "      <td>0.224876</td>\n",
       "      <td>0.232558</td>\n",
       "    </tr>\n",
       "    <tr>\n",
       "      <th>2</th>\n",
       "      <td>0.615385</td>\n",
       "      <td>0.902597</td>\n",
       "      <td>0.371429</td>\n",
       "      <td>0.531915</td>\n",
       "      <td>0.437681</td>\n",
       "      <td>0.160377</td>\n",
       "      <td>0.489292</td>\n",
       "      <td>0.255814</td>\n",
       "    </tr>\n",
       "    <tr>\n",
       "      <th>3</th>\n",
       "      <td>0.076923</td>\n",
       "      <td>0.292208</td>\n",
       "      <td>0.400000</td>\n",
       "      <td>0.340426</td>\n",
       "      <td>0.228986</td>\n",
       "      <td>0.311321</td>\n",
       "      <td>0.073311</td>\n",
       "      <td>0.000000</td>\n",
       "    </tr>\n",
       "    <tr>\n",
       "      <th>4</th>\n",
       "      <td>0.384615</td>\n",
       "      <td>0.467532</td>\n",
       "      <td>0.514286</td>\n",
       "      <td>0.425532</td>\n",
       "      <td>0.246377</td>\n",
       "      <td>0.232704</td>\n",
       "      <td>0.101318</td>\n",
       "      <td>0.209302</td>\n",
       "    </tr>\n",
       "  </tbody>\n",
       "</table>\n",
       "</div>"
      ],
      "text/plain": [
       "   Pregnancies   Glucose  BloodPressure  SkinThickness   Insulin       BMI  \\\n",
       "0     0.461538  0.675325       0.485714       0.595745  0.437681  0.484277   \n",
       "1     0.076923  0.266234       0.400000       0.468085  0.246377  0.264151   \n",
       "2     0.615385  0.902597       0.371429       0.531915  0.437681  0.160377   \n",
       "3     0.076923  0.292208       0.400000       0.340426  0.228986  0.311321   \n",
       "4     0.384615  0.467532       0.514286       0.425532  0.246377  0.232704   \n",
       "\n",
       "        DPF       Age  \n",
       "0  0.452224  0.674419  \n",
       "1  0.224876  0.232558  \n",
       "2  0.489292  0.255814  \n",
       "3  0.073311  0.000000  \n",
       "4  0.101318  0.209302  "
      ]
     },
     "execution_count": 48,
     "metadata": {},
     "output_type": "execute_result"
    }
   ],
   "source": [
    "# Scaling Features\n",
    "scaler = MinMaxScaler()\n",
    "X_scaled = scaler.fit_transform(X)\n",
    "X = pd.DataFrame(X_scaled, columns=X.columns)\n",
    "X.head()"
   ]
  },
  {
   "cell_type": "markdown",
   "execution_count": null,
   "metadata": {
    "papermill": {
     "duration": 0.046793,
     "end_time": "2020-09-07T15:39:58.246111",
     "exception": false,
     "start_time": "2020-09-07T15:39:58.199318",
     "status": "completed"
    },
    "tags": []
   },
   "source": [
    "## [4.1. Splitting data into train and test set](http://)"
   ]
  },
  {
   "cell_type": "code",
   "execution_count": 49,
   "metadata": {
    "execution": {
     "iopub.execute_input": "2020-09-07T15:39:58.349028Z",
     "iopub.status.busy": "2020-09-07T15:39:58.348178Z",
     "iopub.status.idle": "2020-09-07T15:39:58.358565Z",
     "shell.execute_reply": "2020-09-07T15:39:58.359140Z"
    },
    "papermill": {
     "duration": 0.065284,
     "end_time": "2020-09-07T15:39:58.359317",
     "exception": false,
     "start_time": "2020-09-07T15:39:58.294033",
     "status": "completed"
    },
    "tags": []
   },
   "outputs": [
    {
     "data": {
      "text/plain": [
       "((553, 8), (139, 8))"
      ]
     },
     "execution_count": 49,
     "metadata": {},
     "output_type": "execute_result"
    }
   ],
   "source": [
    "# Fixing the random_state in order to maintain consistency in results\n",
    "rand_state = 11\n",
    "\n",
    "X_train, X_test, y_train, y_test = train_test_split(X , y, random_state=rand_state, test_size=0.2, stratify=y)\n",
    "X_train.shape, X_test.shape"
   ]
  },
  {
   "cell_type": "markdown",
   "execution_count": null,
   "metadata": {
    "papermill": {
     "duration": 0.046848,
     "end_time": "2020-09-07T15:39:58.453756",
     "exception": false,
     "start_time": "2020-09-07T15:39:58.406908",
     "status": "completed"
    },
    "tags": []
   },
   "source": [
    "## [4.2. Base models](http://)"
   ]
  },
  {
   "cell_type": "markdown",
   "execution_count": null,
   "metadata": {
    "papermill": {
     "duration": 0.046964,
     "end_time": "2020-09-07T15:39:58.548135",
     "exception": false,
     "start_time": "2020-09-07T15:39:58.501171",
     "status": "completed"
    },
    "tags": []
   },
   "source": [
    "### 4.2.1. Decision Tree Classifier"
   ]
  },
  {
   "cell_type": "code",
   "execution_count": 50,
   "metadata": {
    "execution": {
     "iopub.execute_input": "2020-09-07T15:39:58.652694Z",
     "iopub.status.busy": "2020-09-07T15:39:58.650626Z",
     "iopub.status.idle": "2020-09-07T15:39:58.662583Z",
     "shell.execute_reply": "2020-09-07T15:39:58.661775Z"
    },
    "papermill": {
     "duration": 0.067808,
     "end_time": "2020-09-07T15:39:58.662718",
     "exception": false,
     "start_time": "2020-09-07T15:39:58.594910",
     "status": "completed"
    },
    "tags": []
   },
   "outputs": [
    {
     "data": {
      "text/plain": [
       "DecisionTreeClassifier(random_state=11)"
      ]
     },
     "execution_count": 50,
     "metadata": {},
     "output_type": "execute_result"
    }
   ],
   "source": [
    "DTC = DecisionTreeClassifier(random_state=rand_state)\n",
    "DTC.fit(X_train, y_train)"
   ]
  },
  {
   "cell_type": "markdown",
   "execution_count": null,
   "metadata": {
    "papermill": {
     "duration": 0.051179,
     "end_time": "2020-09-07T15:39:58.762163",
     "exception": false,
     "start_time": "2020-09-07T15:39:58.710984",
     "status": "completed"
    },
    "tags": []
   },
   "source": [
    "### 4.2.2. AdaBoost Classifier"
   ]
  },
  {
   "cell_type": "code",
   "execution_count": 51,
   "metadata": {
    "execution": {
     "iopub.execute_input": "2020-09-07T15:39:58.882249Z",
     "iopub.status.busy": "2020-09-07T15:39:58.881208Z",
     "iopub.status.idle": "2020-09-07T15:39:58.892874Z",
     "shell.execute_reply": "2020-09-07T15:39:58.892051Z"
    },
    "papermill": {
     "duration": 0.076404,
     "end_time": "2020-09-07T15:39:58.893024",
     "exception": false,
     "start_time": "2020-09-07T15:39:58.816620",
     "status": "completed"
    },
    "tags": []
   },
   "outputs": [
    {
     "data": {
      "text/plain": [
       "AdaBoostClassifier(base_estimator=DecisionTreeClassifier(random_state=11),\n",
       "                   learning_rate=0.1, random_state=11)"
      ]
     },
     "execution_count": 51,
     "metadata": {},
     "output_type": "execute_result"
    }
   ],
   "source": [
    "ABC = AdaBoostClassifier(DecisionTreeClassifier(random_state=rand_state),random_state=rand_state,learning_rate=0.1)\n",
    "ABC.fit(X_train, y_train)"
   ]
  },
  {
   "cell_type": "markdown",
   "execution_count": null,
   "metadata": {
    "papermill": {
     "duration": 0.051132,
     "end_time": "2020-09-07T15:39:58.991756",
     "exception": false,
     "start_time": "2020-09-07T15:39:58.940624",
     "status": "completed"
    },
    "tags": []
   },
   "source": [
    "### 4.2.3. XGBoost Classifier"
   ]
  },
  {
   "cell_type": "code",
   "execution_count": 52,
   "metadata": {
    "execution": {
     "iopub.execute_input": "2020-09-07T15:39:59.099760Z",
     "iopub.status.busy": "2020-09-07T15:39:59.098896Z",
     "iopub.status.idle": "2020-09-07T15:39:59.178782Z",
     "shell.execute_reply": "2020-09-07T15:39:59.179512Z"
    },
    "papermill": {
     "duration": 0.134505,
     "end_time": "2020-09-07T15:39:59.179704",
     "exception": false,
     "start_time": "2020-09-07T15:39:59.045199",
     "status": "completed"
    },
    "tags": []
   },
   "outputs": [
    {
     "data": {
      "text/plain": [
       "XGBClassifier(base_score=0.5, booster='gbtree', colsample_bylevel=1,\n",
       "              colsample_bynode=1, colsample_bytree=1, gamma=0, gpu_id=-1,\n",
       "              importance_type='gain', interaction_constraints='',\n",
       "              learning_rate=0.05, max_delta_step=0, max_depth=6,\n",
       "              min_child_weight=1, missing=nan, monotone_constraints='()',\n",
       "              n_estimators=100, n_jobs=0, num_parallel_tree=1, random_state=11,\n",
       "              reg_alpha=0, reg_lambda=1, scale_pos_weight=1, subsample=1,\n",
       "              tree_method='exact', validate_parameters=1, verbosity=None)"
      ]
     },
     "execution_count": 52,
     "metadata": {},
     "output_type": "execute_result"
    }
   ],
   "source": [
    "XGBC = xgb.XGBClassifier(learning_rate=0.05,random_state =rand_state)\n",
    "XGBC.fit(X_train, y_train)"
   ]
  },
  {
   "cell_type": "markdown",
   "execution_count": null,
   "metadata": {
    "papermill": {
     "duration": 0.059362,
     "end_time": "2020-09-07T15:39:59.299929",
     "exception": false,
     "start_time": "2020-09-07T15:39:59.240567",
     "status": "completed"
    },
    "tags": []
   },
   "source": [
    "### 4.2.4. LightGBM Classifier"
   ]
  },
  {
   "cell_type": "code",
   "execution_count": 53,
   "metadata": {
    "execution": {
     "iopub.execute_input": "2020-09-07T15:39:59.419948Z",
     "iopub.status.busy": "2020-09-07T15:39:59.419180Z",
     "iopub.status.idle": "2020-09-07T15:39:59.492520Z",
     "shell.execute_reply": "2020-09-07T15:39:59.493341Z"
    },
    "papermill": {
     "duration": 0.13208,
     "end_time": "2020-09-07T15:39:59.493528",
     "exception": false,
     "start_time": "2020-09-07T15:39:59.361448",
     "status": "completed"
    },
    "tags": []
   },
   "outputs": [
    {
     "data": {
      "text/plain": [
       "LGBMClassifier(learning_rate=0.05)"
      ]
     },
     "execution_count": 53,
     "metadata": {},
     "output_type": "execute_result"
    }
   ],
   "source": [
    "LGBMC = lgbm.LGBMClassifier(learning_rate=0.05)\n",
    "LGBMC.fit(X_train, y_train)"
   ]
  },
  {
   "cell_type": "markdown",
   "execution_count": null,
   "metadata": {
    "papermill": {
     "duration": 0.059803,
     "end_time": "2020-09-07T15:39:59.613397",
     "exception": false,
     "start_time": "2020-09-07T15:39:59.553594",
     "status": "completed"
    },
    "tags": []
   },
   "source": [
    "### 4.2.5. Random Forest Classifier"
   ]
  },
  {
   "cell_type": "code",
   "execution_count": 54,
   "metadata": {
    "execution": {
     "iopub.execute_input": "2020-09-07T15:39:59.746437Z",
     "iopub.status.busy": "2020-09-07T15:39:59.730217Z",
     "iopub.status.idle": "2020-09-07T15:39:59.989487Z",
     "shell.execute_reply": "2020-09-07T15:39:59.988592Z"
    },
    "papermill": {
     "duration": 0.316676,
     "end_time": "2020-09-07T15:39:59.989623",
     "exception": false,
     "start_time": "2020-09-07T15:39:59.672947",
     "status": "completed"
    },
    "tags": []
   },
   "outputs": [
    {
     "data": {
      "text/plain": [
       "RandomForestClassifier(random_state=11)"
      ]
     },
     "execution_count": 54,
     "metadata": {},
     "output_type": "execute_result"
    }
   ],
   "source": [
    "RFC = RandomForestClassifier(random_state=rand_state)\n",
    "RFC.fit(X_train, y_train)"
   ]
  },
  {
   "cell_type": "markdown",
   "execution_count": null,
   "metadata": {
    "papermill": {
     "duration": 0.048128,
     "end_time": "2020-09-07T15:40:00.086889",
     "exception": false,
     "start_time": "2020-09-07T15:40:00.038761",
     "status": "completed"
    },
    "tags": []
   },
   "source": [
    "### 4.2.6. k-NN Classifier"
   ]
  },
  {
   "cell_type": "code",
   "execution_count": 55,
   "metadata": {
    "execution": {
     "iopub.execute_input": "2020-09-07T15:40:00.197140Z",
     "iopub.status.busy": "2020-09-07T15:40:00.196047Z",
     "iopub.status.idle": "2020-09-07T15:40:00.201464Z",
     "shell.execute_reply": "2020-09-07T15:40:00.200787Z"
    },
    "papermill": {
     "duration": 0.066031,
     "end_time": "2020-09-07T15:40:00.201621",
     "exception": false,
     "start_time": "2020-09-07T15:40:00.135590",
     "status": "completed"
    },
    "tags": []
   },
   "outputs": [
    {
     "data": {
      "text/plain": [
       "KNeighborsClassifier(n_neighbors=7)"
      ]
     },
     "execution_count": 55,
     "metadata": {},
     "output_type": "execute_result"
    }
   ],
   "source": [
    "KNNC = KNeighborsClassifier(n_neighbors=7)\n",
    "KNNC.fit(X_train, y_train)"
   ]
  },
  {
   "cell_type": "markdown",
   "execution_count": null,
   "metadata": {
    "papermill": {
     "duration": 0.049151,
     "end_time": "2020-09-07T15:40:00.299474",
     "exception": false,
     "start_time": "2020-09-07T15:40:00.250323",
     "status": "completed"
    },
    "tags": []
   },
   "source": [
    "### 4.2.7. Logistic Regression"
   ]
  },
  {
   "cell_type": "code",
   "execution_count": 56,
   "metadata": {
    "execution": {
     "iopub.execute_input": "2020-09-07T15:40:00.407602Z",
     "iopub.status.busy": "2020-09-07T15:40:00.406781Z",
     "iopub.status.idle": "2020-09-07T15:40:00.422625Z",
     "shell.execute_reply": "2020-09-07T15:40:00.421803Z"
    },
    "papermill": {
     "duration": 0.074031,
     "end_time": "2020-09-07T15:40:00.422766",
     "exception": false,
     "start_time": "2020-09-07T15:40:00.348735",
     "status": "completed"
    },
    "tags": []
   },
   "outputs": [
    {
     "data": {
      "text/plain": [
       "LogisticRegression(class_weight={0: 0.33, 1: 0.67}, random_state=11)"
      ]
     },
     "execution_count": 56,
     "metadata": {},
     "output_type": "execute_result"
    }
   ],
   "source": [
    "LR = LogisticRegression(random_state=rand_state, class_weight={0:0.33, 1:0.67})\n",
    "LR.fit(X_train, y_train)"
   ]
  },
  {
   "cell_type": "code",
   "execution_count": 57,
   "metadata": {
    "execution": {
     "iopub.execute_input": "2020-09-07T15:40:00.531943Z",
     "iopub.status.busy": "2020-09-07T15:40:00.530912Z",
     "iopub.status.idle": "2020-09-07T15:40:00.535643Z",
     "shell.execute_reply": "2020-09-07T15:40:00.534764Z"
    },
    "papermill": {
     "duration": 0.064642,
     "end_time": "2020-09-07T15:40:00.535786",
     "exception": false,
     "start_time": "2020-09-07T15:40:00.471144",
     "status": "completed"
    },
    "tags": []
   },
   "outputs": [
    {
     "name": "stdout",
     "output_type": "stream",
     "text": [
      "[[0.48957294 0.51042706]\n",
      " [0.4421301  0.5578699 ]\n",
      " [0.73661194 0.26338806]\n",
      " [0.59520391 0.40479609]\n",
      " [0.07149321 0.92850679]\n",
      " [0.94292392 0.05707608]\n",
      " [0.85942935 0.14057065]\n",
      " [0.8042058  0.1957942 ]\n",
      " [0.22093702 0.77906298]\n",
      " [0.35276245 0.64723755]\n",
      " [0.32882934 0.67117066]\n",
      " [0.61892991 0.38107009]\n",
      " [0.78467756 0.21532244]\n",
      " [0.63599463 0.36400537]\n",
      " [0.8255279  0.1744721 ]]\n"
     ]
    }
   ],
   "source": [
    "probabilities = LR.predict_proba(X_test)\n",
    "print(probabilities[:15,:])"
   ]
  },
  {
   "cell_type": "markdown",
   "execution_count": null,
   "metadata": {
    "papermill": {
     "duration": 0.049171,
     "end_time": "2020-09-07T15:40:00.634373",
     "exception": false,
     "start_time": "2020-09-07T15:40:00.585202",
     "status": "completed"
    },
    "tags": []
   },
   "source": [
    "## [4.3. Evaluation Metrics](http://)"
   ]
  },
  {
   "cell_type": "code",
   "execution_count": 58,
   "metadata": {
    "execution": {
     "iopub.execute_input": "2020-09-07T15:40:00.742828Z",
     "iopub.status.busy": "2020-09-07T15:40:00.741709Z",
     "iopub.status.idle": "2020-09-07T15:40:00.745963Z",
     "shell.execute_reply": "2020-09-07T15:40:00.747176Z"
    },
    "papermill": {
     "duration": 0.06418,
     "end_time": "2020-09-07T15:40:00.747396",
     "exception": false,
     "start_time": "2020-09-07T15:40:00.683216",
     "status": "completed"
    },
    "tags": []
   },
   "outputs": [
    {
     "name": "stdout",
     "output_type": "stream",
     "text": [
      "[1 1 0 0 1 0 0 0 1 1 1 0 0 0 0]\n",
      "269    1\n",
      "44     0\n",
      "122    0\n",
      "250    0\n",
      "662    1\n",
      "68     0\n",
      "183    0\n",
      "601    0\n",
      "237    1\n",
      "592    1\n",
      "293    1\n",
      "460    0\n",
      "483    0\n",
      "138    0\n",
      "253    0\n",
      "Name: Outcome, dtype: int64\n"
     ]
    }
   ],
   "source": [
    "def score_model(probs, threshold):\n",
    "    return np.array([1 if x > threshold else 0 for x in probs[:, 1]])\n",
    "scores = score_model(probabilities, 0.5)\n",
    "print((scores[: 15]))\n",
    "print(y_test[: 15])"
   ]
  },
  {
   "cell_type": "markdown",
   "execution_count": null,
   "metadata": {
    "papermill": {
     "duration": 0.048171,
     "end_time": "2020-09-07T15:40:00.844743",
     "exception": false,
     "start_time": "2020-09-07T15:40:00.796572",
     "status": "completed"
    },
    "tags": []
   },
   "source": [
    "### 4.3.1. Confusion matrix"
   ]
  },
  {
   "cell_type": "code",
   "execution_count": 59,
   "metadata": {
    "execution": {
     "iopub.execute_input": "2020-09-07T15:40:00.959048Z",
     "iopub.status.busy": "2020-09-07T15:40:00.956720Z",
     "iopub.status.idle": "2020-09-07T15:40:00.966346Z",
     "shell.execute_reply": "2020-09-07T15:40:00.966946Z"
    },
    "papermill": {
     "duration": 0.074264,
     "end_time": "2020-09-07T15:40:00.967141",
     "exception": false,
     "start_time": "2020-09-07T15:40:00.892877",
     "status": "completed"
    },
    "tags": []
   },
   "outputs": [
    {
     "name": "stdout",
     "output_type": "stream",
     "text": [
      "                 Confusion matrix\n",
      "                 Score positive    Score negative\n",
      "Actual positive        76                17\n",
      "Actual negative        10                36\n",
      "\n",
      "Accuracy  0.81\n",
      " \n",
      "           Positive      Negative\n",
      "Num case       93            46\n",
      "Precision    0.88          0.68\n",
      "Recall       0.82          0.78\n",
      "F1           0.85          0.73\n"
     ]
    }
   ],
   "source": [
    "def print_metrics(labels, scores):\n",
    "    metrics = precision_recall_fscore_support(labels, scores)\n",
    "    conf = confusion_matrix(labels, scores)\n",
    "    print('                 Confusion matrix')\n",
    "    print('                 Score positive    Score negative')\n",
    "    print('Actual positive    %6d' % conf[0,0] + '             %5d' % conf[0,1])\n",
    "    print('Actual negative    %6d' % conf[1,0] + '             %5d' % conf[1,1])\n",
    "    print('')\n",
    "    print('Accuracy  %0.2f' % accuracy_score(labels, scores))\n",
    "    print(' ')\n",
    "    print('           Positive      Negative')\n",
    "    print('Num case   %6d' % metrics[3][0] + '        %6d' % metrics[3][1])\n",
    "    print('Precision  %6.2f' % metrics[0][0] + '        %6.2f' % metrics[0][1])\n",
    "    print('Recall     %6.2f' % metrics[1][0] + '        %6.2f' % metrics[1][1])\n",
    "    print('F1         %6.2f' % metrics[2][0] + '        %6.2f' % metrics[2][1])\n",
    "\n",
    "\n",
    "    \n",
    "print_metrics(y_test, scores)   "
   ]
  },
  {
   "cell_type": "markdown",
   "execution_count": null,
   "metadata": {
    "papermill": {
     "duration": 0.049538,
     "end_time": "2020-09-07T15:40:01.065236",
     "exception": false,
     "start_time": "2020-09-07T15:40:01.015698",
     "status": "completed"
    },
    "tags": []
   },
   "source": [
    "*In order to understand what confusion matrix is, let's take an example:*    \n",
    "    \n",
    "    There are a group of people waiting to examine if they have swine flu. The doctor goes through all the cases and tells the patient if they have the flu or no.\n",
    "\n",
    "Cases in which the doctor predicted YES (they have the disease), and they do have the disease will be termed as TRUE POSITIVES (TP). The doctor has correctly predicted that the patient has the disease.\n",
    "\n",
    "Cases in which the doctor predicted NO (they do not have the disease), and they don’t have the disease will be termed as TRUE NEGATIVES (TN). The doctor has correctly predicted that the patient does not have the disease.\n",
    "\n",
    "Cases in which the doctor predicted YES, and they do not have the disease will be termed as FALSE POSITIVES (FP). Also known as “Type I error”.\n",
    "\n",
    "Cases in which the doctor predicted NO, and they have the disease will be termed as FALSE NEGATIVES (FN). Also known as “Type II error”.\n",
    "\n",
    "![](https://cdn-images-1.medium.com/max/1600/0*9r99oJ2PTRi4gYF_.jpg)"
   ]
  },
  {
   "cell_type": "markdown",
   "execution_count": null,
   "metadata": {
    "papermill": {
     "duration": 0.048507,
     "end_time": "2020-09-07T15:40:01.162324",
     "exception": false,
     "start_time": "2020-09-07T15:40:01.113817",
     "status": "completed"
    },
    "tags": []
   },
   "source": [
    "* Accuracy = (True Positives + True Negatives)/(True Positives + False Positives + False Negatives + True Negatives)\n",
    "\n",
    "* Specificity/ True Negative Rate/ Precision = True Negatives/(True Negatives + False Positives)\n",
    "\n",
    "* Sensitivity/ True Positive Rate/ Recall = True Positives/(True Positives + False Negatives)\n",
    "\n",
    "* F_1 score = 2/((1/Precision) + (1/Recall))"
   ]
  },
  {
   "cell_type": "markdown",
   "execution_count": null,
   "metadata": {
    "papermill": {
     "duration": 0.056215,
     "end_time": "2020-09-07T15:40:01.331852",
     "exception": false,
     "start_time": "2020-09-07T15:40:01.275637",
     "status": "completed"
    },
    "tags": []
   },
   "source": [
    "### 4.3.2. ROC-AUC curve"
   ]
  },
  {
   "cell_type": "code",
   "execution_count": 60,
   "metadata": {
    "execution": {
     "iopub.execute_input": "2020-09-07T15:40:01.461488Z",
     "iopub.status.busy": "2020-09-07T15:40:01.460594Z",
     "iopub.status.idle": "2020-09-07T15:40:01.643792Z",
     "shell.execute_reply": "2020-09-07T15:40:01.643086Z"
    },
    "papermill": {
     "duration": 0.26267,
     "end_time": "2020-09-07T15:40:01.643921",
     "exception": false,
     "start_time": "2020-09-07T15:40:01.381251",
     "status": "completed"
    },
    "tags": []
   },
   "outputs": [
    {
     "data": {
      "image/png": "[encoded data removed]",
      "text/plain": [
       "<Figure size 432x288 with 1 Axes>"
      ]
     },
     "metadata": {},
     "output_type": "display_data"
    }
   ],
   "source": [
    "def plot_auc(labels, probs):\n",
    "    ## Compute the false positive rate, true positive rate\n",
    "    ## and threshold along with the AUC\n",
    "    fpr, tpr, threshold = roc_curve(labels, probs[:,1])\n",
    "    auc = sklm.auc(fpr, tpr)\n",
    "    \n",
    "    ## Plot the result\n",
    "    plt.title('Receiver Operating Characteristic')\n",
    "    plt.plot(fpr, tpr, color = 'orange', label = 'AUC = %0.2f' % auc)\n",
    "    plt.legend(loc = 'lower right')\n",
    "    plt.plot([0, 1], [0, 1],'r--')\n",
    "    plt.xlim([0, 1])\n",
    "    plt.ylim([0, 1])\n",
    "    plt.ylabel('True Positive Rate')\n",
    "    plt.xlabel('False Positive Rate')\n",
    "    plt.show()\n",
    "    \n",
    "plot_auc(y_test, probabilities)    "
   ]
  },
  {
   "cell_type": "markdown",
   "execution_count": null,
   "metadata": {
    "papermill": {
     "duration": 0.049022,
     "end_time": "2020-09-07T15:40:01.743284",
     "exception": false,
     "start_time": "2020-09-07T15:40:01.694262",
     "status": "completed"
    },
    "tags": []
   },
   "source": [
    "*The Receiver Operator Characteristic (ROC) curve is an evaluation metric for binary classification problems. It is a probability curve that plots the TPR against FPR at various threshold values and essentially separates the ‘signal’ from the ‘noise’. The Area Under the Curve (AUC) is the measure of the ability of a classifier to distinguish between classes and is used as a summary of the ROC curve.*\n",
    "\n",
    "* The higher the AUC, the better the performance of the model at distinguishing between the positive and negative classes."
   ]
  },
  {
   "cell_type": "markdown",
   "execution_count": null,
   "metadata": {
    "papermill": {
     "duration": 0.049297,
     "end_time": "2020-09-07T15:40:01.842203",
     "exception": false,
     "start_time": "2020-09-07T15:40:01.792906",
     "status": "completed"
    },
    "tags": []
   },
   "source": [
    "### 4.3.3. Accuracy"
   ]
  },
  {
   "cell_type": "code",
   "execution_count": 61,
   "metadata": {
    "execution": {
     "iopub.execute_input": "2020-09-07T15:40:01.948752Z",
     "iopub.status.busy": "2020-09-07T15:40:01.947661Z",
     "iopub.status.idle": "2020-09-07T15:40:01.951342Z",
     "shell.execute_reply": "2020-09-07T15:40:01.950707Z"
    },
    "papermill": {
     "duration": 0.059989,
     "end_time": "2020-09-07T15:40:01.951503",
     "exception": false,
     "start_time": "2020-09-07T15:40:01.891514",
     "status": "completed"
    },
    "tags": []
   },
   "outputs": [],
   "source": [
    "# K-Fold Cross Validation function\n",
    "n_folds = 5\n",
    "\n",
    "def scores_cv(model):\n",
    "    kf = StratifiedKFold(n_folds, shuffle=True, random_state=rand_state).get_n_splits(data.values)\n",
    "    scores = cross_val_score(model, X_train, y_train, scoring=\"accuracy\", cv = kf)\n",
    "    return(scores)"
   ]
  },
  {
   "cell_type": "markdown",
   "execution_count": null,
   "metadata": {
    "papermill": {
     "duration": 0.049449,
     "end_time": "2020-09-07T15:40:02.050490",
     "exception": false,
     "start_time": "2020-09-07T15:40:02.001041",
     "status": "completed"
    },
    "tags": []
   },
   "source": [
    "*I have made a cross-validation function to test the models based on accuracy on validation data.*"
   ]
  },
  {
   "cell_type": "markdown",
   "execution_count": null,
   "metadata": {
    "papermill": {
     "duration": 0.04889,
     "end_time": "2020-09-07T15:40:02.149133",
     "exception": false,
     "start_time": "2020-09-07T15:40:02.100243",
     "status": "completed"
    },
    "tags": []
   },
   "source": [
    "* Decision Tree Classifier"
   ]
  },
  {
   "cell_type": "code",
   "execution_count": 62,
   "metadata": {
    "execution": {
     "iopub.execute_input": "2020-09-07T15:40:02.256869Z",
     "iopub.status.busy": "2020-09-07T15:40:02.255699Z",
     "iopub.status.idle": "2020-09-07T15:40:02.302278Z",
     "shell.execute_reply": "2020-09-07T15:40:02.300612Z"
    },
    "papermill": {
     "duration": 0.103573,
     "end_time": "2020-09-07T15:40:02.302497",
     "exception": false,
     "start_time": "2020-09-07T15:40:02.198924",
     "status": "completed"
    },
    "tags": []
   },
   "outputs": [
    {
     "name": "stdout",
     "output_type": "stream",
     "text": [
      "\n",
      "Decision Tree score: 0.8553 (0.0174)\n",
      "\n"
     ]
    }
   ],
   "source": [
    "scores = scores_cv(DTC)\n",
    "print(\"\\nDecision Tree score: {:.4f} ({:.4f})\\n\".format(scores.mean(), scores.std()))"
   ]
  },
  {
   "cell_type": "markdown",
   "execution_count": null,
   "metadata": {
    "papermill": {
     "duration": 0.051354,
     "end_time": "2020-09-07T15:40:02.404089",
     "exception": false,
     "start_time": "2020-09-07T15:40:02.352735",
     "status": "completed"
    },
    "tags": []
   },
   "source": [
    "*  AdaBoost Classifier"
   ]
  },
  {
   "cell_type": "code",
   "execution_count": 63,
   "metadata": {
    "execution": {
     "iopub.execute_input": "2020-09-07T15:40:02.515085Z",
     "iopub.status.busy": "2020-09-07T15:40:02.513911Z",
     "iopub.status.idle": "2020-09-07T15:40:02.571117Z",
     "shell.execute_reply": "2020-09-07T15:40:02.571737Z"
    },
    "papermill": {
     "duration": 0.115402,
     "end_time": "2020-09-07T15:40:02.571904",
     "exception": false,
     "start_time": "2020-09-07T15:40:02.456502",
     "status": "completed"
    },
    "tags": []
   },
   "outputs": [
    {
     "name": "stdout",
     "output_type": "stream",
     "text": [
      "\n",
      "Ada Boost score: 0.8535 (0.0180)\n",
      "\n"
     ]
    }
   ],
   "source": [
    "scores = scores_cv(ABC)\n",
    "print(\"\\nAda Boost score: {:.4f} ({:.4f})\\n\".format(scores.mean(), scores.std()))"
   ]
  },
  {
   "cell_type": "markdown",
   "execution_count": null,
   "metadata": {
    "papermill": {
     "duration": 0.049809,
     "end_time": "2020-09-07T15:40:02.672243",
     "exception": false,
     "start_time": "2020-09-07T15:40:02.622434",
     "status": "completed"
    },
    "tags": []
   },
   "source": [
    "* 4.3.3.1. XGBoost Classifier"
   ]
  },
  {
   "cell_type": "code",
   "execution_count": 64,
   "metadata": {
    "execution": {
     "iopub.execute_input": "2020-09-07T15:40:02.779424Z",
     "iopub.status.busy": "2020-09-07T15:40:02.778592Z",
     "iopub.status.idle": "2020-09-07T15:40:03.050670Z",
     "shell.execute_reply": "2020-09-07T15:40:03.051397Z"
    },
    "papermill": {
     "duration": 0.329466,
     "end_time": "2020-09-07T15:40:03.051593",
     "exception": false,
     "start_time": "2020-09-07T15:40:02.722127",
     "status": "completed"
    },
    "tags": []
   },
   "outputs": [
    {
     "name": "stdout",
     "output_type": "stream",
     "text": [
      "\n",
      "XG Boost score: 0.8952 (0.0154)\n",
      "\n"
     ]
    }
   ],
   "source": [
    "scores = scores_cv(XGBC)\n",
    "print(\"\\nXG Boost score: {:.4f} ({:.4f})\\n\".format(scores.mean(), scores.std()))"
   ]
  },
  {
   "cell_type": "markdown",
   "execution_count": null,
   "metadata": {
    "papermill": {
     "duration": 0.064142,
     "end_time": "2020-09-07T15:40:03.177818",
     "exception": false,
     "start_time": "2020-09-07T15:40:03.113676",
     "status": "completed"
    },
    "tags": []
   },
   "source": [
    "* LightGBM Classifier"
   ]
  },
  {
   "cell_type": "code",
   "execution_count": 65,
   "metadata": {
    "execution": {
     "iopub.execute_input": "2020-09-07T15:40:03.298066Z",
     "iopub.status.busy": "2020-09-07T15:40:03.297305Z",
     "iopub.status.idle": "2020-09-07T15:40:03.539787Z",
     "shell.execute_reply": "2020-09-07T15:40:03.540930Z"
    },
    "papermill": {
     "duration": 0.300789,
     "end_time": "2020-09-07T15:40:03.541194",
     "exception": false,
     "start_time": "2020-09-07T15:40:03.240405",
     "status": "completed"
    },
    "tags": []
   },
   "outputs": [
    {
     "name": "stdout",
     "output_type": "stream",
     "text": [
      "\n",
      "LightGBM score: 0.8952 (0.0232)\n",
      "\n"
     ]
    }
   ],
   "source": [
    "scores = scores_cv(LGBMC)\n",
    "print(\"\\nLightGBM score: {:.4f} ({:.4f})\\n\".format(scores.mean(), scores.std()))"
   ]
  },
  {
   "cell_type": "markdown",
   "execution_count": null,
   "metadata": {
    "papermill": {
     "duration": 0.062763,
     "end_time": "2020-09-07T15:40:03.666273",
     "exception": false,
     "start_time": "2020-09-07T15:40:03.603510",
     "status": "completed"
    },
    "tags": []
   },
   "source": [
    "* Random Forest Classifier"
   ]
  },
  {
   "cell_type": "code",
   "execution_count": 66,
   "metadata": {
    "execution": {
     "iopub.execute_input": "2020-09-07T15:40:03.789581Z",
     "iopub.status.busy": "2020-09-07T15:40:03.788739Z",
     "iopub.status.idle": "2020-09-07T15:40:05.095134Z",
     "shell.execute_reply": "2020-09-07T15:40:05.094231Z"
    },
    "papermill": {
     "duration": 1.36278,
     "end_time": "2020-09-07T15:40:05.095302",
     "exception": false,
     "start_time": "2020-09-07T15:40:03.732522",
     "status": "completed"
    },
    "tags": []
   },
   "outputs": [
    {
     "name": "stdout",
     "output_type": "stream",
     "text": [
      "\n",
      "Random Forest score: 0.8879 (0.0166)\n",
      "\n"
     ]
    }
   ],
   "source": [
    "scores = scores_cv(RFC)\n",
    "print(\"\\nRandom Forest score: {:.4f} ({:.4f})\\n\".format(scores.mean(), scores.std()))"
   ]
  },
  {
   "cell_type": "markdown",
   "execution_count": null,
   "metadata": {
    "papermill": {
     "duration": 0.050861,
     "end_time": "2020-09-07T15:40:05.196689",
     "exception": false,
     "start_time": "2020-09-07T15:40:05.145828",
     "status": "completed"
    },
    "tags": []
   },
   "source": [
    "* k-NN Classifier"
   ]
  },
  {
   "cell_type": "code",
   "execution_count": 67,
   "metadata": {
    "execution": {
     "iopub.execute_input": "2020-09-07T15:40:05.307670Z",
     "iopub.status.busy": "2020-09-07T15:40:05.306537Z",
     "iopub.status.idle": "2020-09-07T15:40:05.378370Z",
     "shell.execute_reply": "2020-09-07T15:40:05.377291Z"
    },
    "papermill": {
     "duration": 0.131654,
     "end_time": "2020-09-07T15:40:05.378551",
     "exception": false,
     "start_time": "2020-09-07T15:40:05.246897",
     "status": "completed"
    },
    "tags": []
   },
   "outputs": [
    {
     "name": "stdout",
     "output_type": "stream",
     "text": [
      "\n",
      "KNN score: 0.8281 (0.0405)\n",
      "\n"
     ]
    }
   ],
   "source": [
    "scores = scores_cv(KNNC)\n",
    "print(\"\\nKNN score: {:.4f} ({:.4f})\\n\".format(scores.mean(), scores.std()))"
   ]
  },
  {
   "cell_type": "markdown",
   "execution_count": null,
   "metadata": {
    "papermill": {
     "duration": 0.050436,
     "end_time": "2020-09-07T15:40:05.479525",
     "exception": false,
     "start_time": "2020-09-07T15:40:05.429089",
     "status": "completed"
    },
    "tags": []
   },
   "source": [
    "* Logistic Regression"
   ]
  },
  {
   "cell_type": "code",
   "execution_count": 68,
   "metadata": {
    "execution": {
     "iopub.execute_input": "2020-09-07T15:40:05.587152Z",
     "iopub.status.busy": "2020-09-07T15:40:05.586345Z",
     "iopub.status.idle": "2020-09-07T15:40:05.651119Z",
     "shell.execute_reply": "2020-09-07T15:40:05.652157Z"
    },
    "papermill": {
     "duration": 0.12253,
     "end_time": "2020-09-07T15:40:05.652348",
     "exception": false,
     "start_time": "2020-09-07T15:40:05.529818",
     "status": "completed"
    },
    "tags": []
   },
   "outputs": [
    {
     "name": "stdout",
     "output_type": "stream",
     "text": [
      "\n",
      "Logistic Regression score: 0.7885 (0.0322)\n",
      "\n"
     ]
    }
   ],
   "source": [
    "scores = scores_cv(LR)\n",
    "print(\"\\nLogistic Regression score: {:.4f} ({:.4f})\\n\".format(scores.mean(), scores.std()))"
   ]
  },
  {
   "cell_type": "markdown",
   "execution_count": null,
   "metadata": {
    "papermill": {
     "duration": 0.050436,
     "end_time": "2020-09-07T15:40:05.753828",
     "exception": false,
     "start_time": "2020-09-07T15:40:05.703392",
     "status": "completed"
    },
    "tags": []
   },
   "source": [
    "## [4.4. Hyperparamter tuning](http://)"
   ]
  },
  {
   "cell_type": "markdown",
   "execution_count": null,
   "metadata": {
    "papermill": {
     "duration": 0.051421,
     "end_time": "2020-09-07T15:40:05.856930",
     "exception": false,
     "start_time": "2020-09-07T15:40:05.805509",
     "status": "completed"
    },
    "tags": []
   },
   "source": [
    "**I have chosen the best performing models from the above 7 to be optimized in order to achieve maximum accuracy.**\n",
    "\n",
    "**One of the main theoretical backings to motivate the use of random search in place of grid search is the fact that for most cases, hyperparameters are not equally important and the grid search strategy spends redundant time exploring the unimportant parameter. and misses the optimal model.**\n",
    "\n",
    "*A Gaussian process analysis of the function from hyper-parameters to validation set performance reveals that for most data sets only a few of the hyper-parameters really matter, but that different hyper-parameters are important on different data sets. This phenomenon makes grid search a poor choice for configuring algorithms for new data sets. - Bergstra, 2012*"
   ]
  },
  {
   "cell_type": "markdown",
   "execution_count": null,
   "metadata": {
    "papermill": {
     "duration": 0.051253,
     "end_time": "2020-09-07T15:40:05.959221",
     "exception": false,
     "start_time": "2020-09-07T15:40:05.907968",
     "status": "completed"
    },
    "tags": []
   },
   "source": [
    "* XGBoost Classifier"
   ]
  },
  {
   "cell_type": "code",
   "execution_count": 69,
   "metadata": {
    "execution": {
     "iopub.execute_input": "2020-09-07T15:40:06.073930Z",
     "iopub.status.busy": "2020-09-07T15:40:06.073127Z",
     "iopub.status.idle": "2020-09-07T15:40:09.086619Z",
     "shell.execute_reply": "2020-09-07T15:40:09.087480Z"
    },
    "papermill": {
     "duration": 3.07756,
     "end_time": "2020-09-07T15:40:09.087670",
     "exception": false,
     "start_time": "2020-09-07T15:40:06.010110",
     "status": "completed"
    },
    "tags": []
   },
   "outputs": [
    {
     "name": "stdout",
     "output_type": "stream",
     "text": [
      "Tuned XGBoost Parameters: {'colsample_bytree': 0.04189226463825302, 'learning_rate': 0.01, 'max_depth': 5, 'min_child_weight': 0.8811848634280851, 'n_estimators': 500, 'subsample': 0.12893684886385293}\n",
      "Best score is 0.8914987714987713\n"
     ]
    }
   ],
   "source": [
    "param_dist = {'colsample_bytree': nr.random(1), \"learning_rate\": [0.05, 0.01, 0.1, 0.3]\n",
    "              , \"max_depth\": randint(1,20), \"min_child_weight\": nr.random(5)\n",
    "              , \"n_estimators\": [100, 300, 500]\n",
    "              , \"subsample\":nr.random(1)}\n",
    "\n",
    "XGBC = xgb.XGBClassifier(random_state=rand_state)\n",
    "XGBC_cv = RandomizedSearchCV(XGBC,param_distributions=param_dist, cv=5)\n",
    "XGBC_cv.fit(X_train, y_train)\n",
    "\n",
    "print(\"Tuned XGBoost Parameters: {}\".format(XGBC_cv.best_params_)) \n",
    "print(\"Best score is {}\".format(XGBC_cv.best_score_)) "
   ]
  },
  {
   "cell_type": "markdown",
   "execution_count": null,
   "metadata": {
    "papermill": {
     "duration": 0.061967,
     "end_time": "2020-09-07T15:40:09.212534",
     "exception": false,
     "start_time": "2020-09-07T15:40:09.150567",
     "status": "completed"
    },
    "tags": []
   },
   "source": [
    "* LightGBM Classifier"
   ]
  },
  {
   "cell_type": "code",
   "execution_count": 70,
   "metadata": {
    "execution": {
     "iopub.execute_input": "2020-09-07T15:40:09.347491Z",
     "iopub.status.busy": "2020-09-07T15:40:09.346641Z",
     "iopub.status.idle": "2020-09-07T15:40:11.387053Z",
     "shell.execute_reply": "2020-09-07T15:40:11.387922Z"
    },
    "papermill": {
     "duration": 2.111395,
     "end_time": "2020-09-07T15:40:11.388146",
     "exception": false,
     "start_time": "2020-09-07T15:40:09.276751",
     "status": "completed"
    },
    "tags": []
   },
   "outputs": [
    {
     "name": "stdout",
     "output_type": "stream",
     "text": [
      "Tuned LightGBM Parameters: {'colsample_bytree': 0.836535766265586, 'learning_rate': 0.1, 'max_depth': 11, 'min_child_samples': 3, 'min_child_weight': 0.12507595733715826, 'n_estimators': 100, 'num_leaves': 6, 'subsample': 0.55988735274056}\n",
      "Best score is 0.9023751023751023\n"
     ]
    }
   ],
   "source": [
    "param_dist = {'num_leaves': randint(1,20), 'max_depth': randint(1,15), 'learning_rate': [0.05, 0.1, 0.3]\n",
    "              , 'n_estimators': [100, 300, 500], 'min_child_weight': nr.random(5), 'min_child_samples': randint(1,20)\n",
    "              , 'subsample': nr.random(1), 'colsample_bytree': nr.random(1)}\n",
    "\n",
    "LightGBM = lgbm.LGBMClassifier(random_state=rand_state)\n",
    "LightGBM_cv = RandomizedSearchCV(LightGBM,param_distributions=param_dist, cv=5)\n",
    "LightGBM_cv.fit(X_train, y_train)\n",
    "\n",
    "print(\"Tuned LightGBM Parameters: {}\".format(LightGBM_cv.best_params_)) \n",
    "print(\"Best score is {}\".format(LightGBM_cv.best_score_))"
   ]
  },
  {
   "cell_type": "markdown",
   "execution_count": null,
   "metadata": {
    "papermill": {
     "duration": 0.062147,
     "end_time": "2020-09-07T15:40:11.515085",
     "exception": false,
     "start_time": "2020-09-07T15:40:11.452938",
     "status": "completed"
    },
    "tags": []
   },
   "source": [
    "* Random Forest Classifier"
   ]
  },
  {
   "cell_type": "code",
   "execution_count": 71,
   "metadata": {
    "execution": {
     "iopub.execute_input": "2020-09-07T15:40:11.640138Z",
     "iopub.status.busy": "2020-09-07T15:40:11.639316Z",
     "iopub.status.idle": "2020-09-07T15:40:53.484935Z",
     "shell.execute_reply": "2020-09-07T15:40:53.485759Z"
    },
    "papermill": {
     "duration": 41.906323,
     "end_time": "2020-09-07T15:40:53.485946",
     "exception": false,
     "start_time": "2020-09-07T15:40:11.579623",
     "status": "completed"
    },
    "tags": []
   },
   "outputs": [
    {
     "name": "stdout",
     "output_type": "stream",
     "text": [
      "Tuned Random Forest Tree Parameters: {'criterion': 'entropy', 'max_depth': 10, 'max_features': 3, 'min_samples_leaf': 2, 'n_estimators': 100}\n",
      "Best score is 0.8933169533169535\n"
     ]
    }
   ],
   "source": [
    "param_dist = {'n_estimators': [100,200,300,400,500,600], 'criterion': ['gini','entropy']\n",
    "              , 'max_depth': randint(1,15), 'max_features': randint(1,9), 'min_samples_leaf': randint(1,9)}\n",
    "\n",
    "RFC = RandomForestClassifier(random_state=rand_state)\n",
    "RFC_cv = RandomizedSearchCV(RFC,param_distributions=param_dist, cv=5)\n",
    "RFC_cv.fit(X_train, y_train)\n",
    "\n",
    "print(\"Tuned Random Forest Tree Parameters: {}\".format(RFC_cv.best_params_)) \n",
    "print(\"Best score is {}\".format(RFC_cv.best_score_)) "
   ]
  },
  {
   "cell_type": "markdown",
   "execution_count": null,
   "metadata": {
    "papermill": {
     "duration": 0.050708,
     "end_time": "2020-09-07T15:40:53.588213",
     "exception": false,
     "start_time": "2020-09-07T15:40:53.537505",
     "status": "completed"
    },
    "tags": []
   },
   "source": [
    "# [5. Final prediction](http://)"
   ]
  },
  {
   "cell_type": "markdown",
   "execution_count": null,
   "metadata": {
    "papermill": {
     "duration": 0.049871,
     "end_time": "2020-09-07T15:40:53.688599",
     "exception": false,
     "start_time": "2020-09-07T15:40:53.638728",
     "status": "completed"
    },
    "tags": []
   },
   "source": [
    "**Filling the tuned paramters into the respective models.**"
   ]
  },
  {
   "cell_type": "code",
   "execution_count": 72,
   "metadata": {
    "execution": {
     "iopub.execute_input": "2020-09-07T15:40:53.799214Z",
     "iopub.status.busy": "2020-09-07T15:40:53.798289Z",
     "iopub.status.idle": "2020-09-07T15:40:53.802425Z",
     "shell.execute_reply": "2020-09-07T15:40:53.801665Z"
    },
    "papermill": {
     "duration": 0.063372,
     "end_time": "2020-09-07T15:40:53.802555",
     "exception": false,
     "start_time": "2020-09-07T15:40:53.739183",
     "status": "completed"
    },
    "tags": []
   },
   "outputs": [],
   "source": [
    "XGBC_best = xgb.XGBClassifier(random_state=rand_state, colsample_bytree=0.9250812043886706,\n",
    "                             learning_rate=0.01, max_depth=19, min_child_weight=0.9458610813134812,\n",
    "                             n_estimators=300, subsample=0.8977705383997567)\n",
    "\n",
    "LightGBM_best = lgbm.LGBMClassifier(random_state=rand_state, colsample_bytree=0.2991633157558994,\n",
    "                               learning_rate=0.3, max_depth=8,min_child_samples=16,\n",
    "                               min_child_weight=0.8711407655443546, n_estimators=100,\n",
    "                               num_leaves=4, subsample=0.3627412195264993)\n",
    "\n",
    "RFC_best = RandomForestClassifier(random_state=rand_state, criterion='entropy', max_depth=4,\n",
    "                                  max_features=3, min_samples_leaf=1, n_estimators=500)"
   ]
  },
  {
   "cell_type": "markdown",
   "execution_count": null,
   "metadata": {
    "papermill": {
     "duration": 0.050347,
     "end_time": "2020-09-07T15:40:53.904442",
     "exception": false,
     "start_time": "2020-09-07T15:40:53.854095",
     "status": "completed"
    },
    "tags": []
   },
   "source": [
    "* VotingClassifier : It is a meta-classifier for combining similar or conceptually different machine learning classifiers for classification via majority or plurality voting"
   ]
  },
  {
   "cell_type": "code",
   "execution_count": 73,
   "metadata": {
    "execution": {
     "iopub.execute_input": "2020-09-07T15:40:54.015551Z",
     "iopub.status.busy": "2020-09-07T15:40:54.014661Z",
     "iopub.status.idle": "2020-09-07T15:40:57.811630Z",
     "shell.execute_reply": "2020-09-07T15:40:57.812597Z"
    },
    "papermill": {
     "duration": 3.857658,
     "end_time": "2020-09-07T15:40:57.812836",
     "exception": false,
     "start_time": "2020-09-07T15:40:53.955178",
     "status": "completed"
    },
    "tags": []
   },
   "outputs": [
    {
     "name": "stdout",
     "output_type": "stream",
     "text": [
      "[1 0 0 0 1 0 0 0 1 1 0 0 0 0 0]\n",
      "[1 0 0 0 1 0 0 0 1 1 1 0 0 0 0]\n"
     ]
    }
   ],
   "source": [
    "voting = VotingClassifier(estimators=[('RFC', RFC_best), ('LightGBM', LightGBM_best),\n",
    "('XGBC', XGBC_best)], voting='soft', n_jobs=4)\n",
    "\n",
    "voting.fit(X_train, y_train)\n",
    "\n",
    "score = voting.predict(X_test)\n",
    "print((score[: 15]))\n",
    "print(np.array(y_test[: 15]))"
   ]
  }
 ],
 "metadata": {
  "kernelspec": {
   "display_name": "Python 3",
   "language": "python",
   "name": "python3"
  },
  "language_info": {
   "codemirror_mode": {
    "name": "ipython",
    "version": 3
   },
   "file_extension": ".py",
   "mimetype": "text/x-python",
   "name": "python",
   "nbconvert_exporter": "python",
   "pygments_lexer": "ipython3",
   "version": "3.7.6"
  },
  "papermill": {
   "duration": 82.110108,
   "end_time": "2020-09-07T15:40:58.015973",
   "environment_variables": {},
   "exception": null,
   "input_path": "__notebook__.ipynb",
   "output_path": "__notebook__.ipynb",
   "parameters": {},
   "start_time": "2020-09-07T15:39:35.905865",
   "version": "2.1.0"
  }
 },
 "nbformat": 4,
 "nbformat_minor": 4
}
